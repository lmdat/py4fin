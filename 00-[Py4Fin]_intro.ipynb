{
 "cells": [
  {
   "cell_type": "markdown",
   "id": "70bfd3d0-7e67-47ce-96ac-8b12f4e966a9",
   "metadata": {},
   "source": [
    "<h1 align=\"center\" class=\"jp-toc-ignore\" style=\"color: LightSeaGreen\">Coder Mê Tài Chính</h1>\n",
    "\n",
    "---\n",
    "<table width=\"100%\" style=\"border:0px;\">\n",
    "    <tr style=\"font-size: 14pt\">\n",
    "        <td><b>Evangelist:</b> Lê Minh Đạt</td>\n",
    "        <td><b>Email:</b> <a href=\"mailto:sirminhdat@gmail.com\">sirminhdat@gmail.com</a></td>\n",
    "        <td><b>Zalo:</b> 0919 564 515</td>\n",
    "    </tr>\n",
    "</table>"
   ]
  },
  {
   "cell_type": "markdown",
   "id": "0d5b4fae-d9da-4252-851c-85c6620b0753",
   "metadata": {},
   "source": [
    "<center><h1 class=\"jp-toc-ignore\"><b>Python For Finance (Py4Fin)</b></h1></center>"
   ]
  },
  {
   "cell_type": "markdown",
   "id": "4de2a0e3-c44a-4c4b-8256-28365add3041",
   "metadata": {},
   "source": [
    "<center>\n",
    "    <h1 style=\"color: Crimson; margin-top:10px;\">Nội Dung</h1>\n",
    "</center>\n",
    "\n",
    "1. Python Cơ Bản\n",
    "2. NumPy Cơ Bản\n",
    "3. Pandas Cơ Bản\n",
    "4. Matplotlib\n",
    "5. Seaborn\n",
    "6. Mô Hình Hồi Quy\n",
    "7. Cách Tính Return Trong Đầu Tư Tài Chính\n",
    "8. Mô Hình CAPM - Tính $\\beta$ Của Cổ Phiếu\n",
    "9. Phân Tích Dữ Liệu Dạng Time-Series\n",
    "10. Danh Mục Đầu Tư Hiện Đại (Markowitz)\n",
    "11. Tối Ưu Danh Mục Đầu Tư\n",
    "12. Phương Pháp Mô Phỏng Monte-Carlo\n",
    "13. Value at Risk - VaR\n",
    "14. BOPM (Binomial Option Pricing Model)\n",
    "15. Mô hình Fama-French 3 nhân tố"
   ]
  },
  {
   "cell_type": "markdown",
   "id": "a0e8ecff-6f34-4903-b3a4-7f33a8021b52",
   "metadata": {},
   "source": [
    "<h3>Đối tượng tham gia</h3>\n",
    "\n",
    "1. Các bạn sinh viên khối kinh tế hoặc ngành tài chính như mình\n",
    "2. Các bạn, anh/chị đã đi làm, muốn tự học Python để nâng cao trình độ của mình trong công việc\n",
    "3. Các bạn, anh/chị muốn cập nhật thêm kiến thức về mảng tài chính"
   ]
  }
 ],
 "metadata": {
  "kernelspec": {
   "display_name": "Python 3 (ipykernel)",
   "language": "python",
   "name": "python3"
  },
  "language_info": {
   "codemirror_mode": {
    "name": "ipython",
    "version": 3
   },
   "file_extension": ".py",
   "mimetype": "text/x-python",
   "name": "python",
   "nbconvert_exporter": "python",
   "pygments_lexer": "ipython3",
   "version": "3.9.13"
  }
 },
 "nbformat": 4,
 "nbformat_minor": 5
}
