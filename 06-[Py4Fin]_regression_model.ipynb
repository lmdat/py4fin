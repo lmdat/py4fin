{
 "cells": [
  {
   "cell_type": "markdown",
   "id": "36a7f3d2-5cd0-431c-87c8-f7e1491025d2",
   "metadata": {},
   "source": [
    "<h1 align=\"center\" class=\"jp-toc-ignore\" style=\"color: LightSeaGreen\">Coder Mê Tài Chính</h1>\n",
    "\n",
    "---\n",
    "<table width=\"100%\" style=\"border:0px;\">\n",
    "    <tr style=\"font-size: 14pt\">\n",
    "        <td><b>Evangelist:</b> Lê Minh Đạt</td>\n",
    "        <td><b>Email:</b> <a href=\"mailto:sirminhdat@gmail.com\">sirminhdat@gmail.com</a></td>\n",
    "        <td><b>Zalo:</b> 0919 564 515</td>\n",
    "    </tr>\n",
    "</table>"
   ]
  },
  {
   "cell_type": "markdown",
   "id": "395cd702-d4be-4079-8bc3-232367a1648c",
   "metadata": {},
   "source": [
    "<center><h1 class=\"jp-toc-ignore\"><b>Python For Finance (Py4Fin)</b></h1></center>"
   ]
  },
  {
   "cell_type": "markdown",
   "id": "1ced3dea-2de5-40a3-90f9-faf260dfd1c5",
   "metadata": {},
   "source": [
    "<center>\n",
    "    <h2 style=\"margin-bottom:0px;\" class=\"jp-toc-ignore\">BÀI 6</h2>\n",
    "    <h1 style=\"color: Crimson; margin-top:10px; margin-bottom:0px\">Mô Hình Hồi Quy</h1>\n",
    "    <h1 style=\"color: Crimson; margin-top:10px;\">(Regression Model)</h1>\n",
    "</center>\n",
    "\n",
    "**Nội dung:**\n",
    "1. Phân tích hồi quy là gì?\n",
    "2. Cài đặt thư viện statsmodels và wooldridge\n",
    "3. Mô hình hồi quy\n",
    "    - Hồi quy đơn\n",
    "    - Hồi quy bội\n",
    "    - Cách viết hồi quy không dùng formula\n",
    "4. Tiêu chí đánh giá Error cho mô hình    \n",
    "\n",
    "---\n"
   ]
  },
  {
   "cell_type": "markdown",
   "id": "4087d07c-68d6-45ba-9a4a-5491a8dfb563",
   "metadata": {},
   "source": [
    "<h2 style=\"color: blue\">1. Phân tích hồi quy là gì?</h2>\n",
    "Phân tích hồi quy là nghiên cứu sự phụ thuộc của một biến (biến phụ thuộc), vào một hay nhiều biến khác (biến độc lập), với ý tưởng là ước lượng (hay dự đoán) giá trị trung bình của biến phụ thuộc trên cơ sở các giá trị biết trước của các biến độc lập."
   ]
  },
  {
   "cell_type": "markdown",
   "id": "40d0a0a8-5c54-497e-8c58-b109aedccc9b",
   "metadata": {},
   "source": [
    "<h2 style=\"color: blue\">2. Cài đặt thư viện statsmodels và wooldridge</h2>\n",
    "\n",
    "**pip install statsmodels**\n",
    "\n",
    "**pip install wooldridge**\n",
    "\n",
    "wooldridge là thư viện đóng gói các bộ dữ liệu trong quyển sách \"Introductory Econometrics: A Modern Approach\" của tác giả Jeffrey M. Wooldridge"
   ]
  },
  {
   "cell_type": "code",
   "execution_count": 25,
   "id": "0e5309c7-4ab6-433c-876e-af094ce33d00",
   "metadata": {},
   "outputs": [],
   "source": [
    "import statsmodels.formula.api as smf\n",
    "import pandas as pd\n",
    "import wooldridge as wdg \n",
    "\n",
    "import matplotlib.pyplot as plt\n",
    "import seaborn as sns\n",
    "\n",
    "sns.set(style='darkgrid', rc={\"figure.figsize\":(12, 8)})"
   ]
  },
  {
   "cell_type": "markdown",
   "id": "9892dffa-b91c-4e8c-b089-d5cdbf50070a",
   "metadata": {},
   "source": [
    "<h2 style=\"color: blue\">3. Mô hình hồi quy</h2>"
   ]
  },
  {
   "cell_type": "markdown",
   "id": "cc0510a6-aeeb-4ba6-aa65-e164b02cc215",
   "metadata": {},
   "source": [
    "<h3 style=\"color: blue\">3.1. Hồi quy đơn</h3>\n",
    "$$\n",
    "\\Large \\hat{y}=\\hat{\\beta_0}+\\hat{\\beta_1}x\n",
    "$$\n",
    "\n",
    "- Biến phụ thuộc y chỉ phụ thuộc vào một biến độc lập x\n",
    "- Lấy ví dụ: phân tích mối liên hệ giữa tiền lương (wage) với trình độ học vấn (educ). Sử dụng bộ dữ liệu WAGE1 của wooldridge\n",
    "$$\n",
    "\\Large \\hat{wage}=\\hat{\\beta_0}+\\hat{\\beta_1}educ\n",
    "$$"
   ]
  },
  {
   "cell_type": "code",
   "execution_count": 26,
   "id": "ad98d511-2a97-4aef-a193-b9a184a00c21",
   "metadata": {},
   "outputs": [
    {
     "name": "stdout",
     "output_type": "stream",
     "text": [
      "  J.M. Wooldridge (2016) Introductory Econometrics: A Modern Approach,\n",
      "  Cengage Learning, 6th edition.\n",
      "\n",
      "  401k       401ksubs    admnrev       affairs     airfare\n",
      "  alcohol    apple       approval      athlet1     athlet2\n",
      "  attend     audit       barium        beauty      benefits\n",
      "  beveridge  big9salary  bwght         bwght2      campus\n",
      "  card       catholic    cement        census2000  ceosal1\n",
      "  ceosal2    charity     consump       corn        countymurders\n",
      "  cps78_85   cps91       crime1        crime2      crime3\n",
      "  crime4     discrim     driving       earns       econmath\n",
      "  elem94_95  engin       expendshares  ezanders    ezunem\n",
      "  fair       fertil1     fertil2       fertil3     fish\n",
      "  fringe     gpa1        gpa2          gpa3        happiness\n",
      "  hprice1    hprice2     hprice3       hseinv      htv\n",
      "  infmrt     injury      intdef        intqrt      inven\n",
      "  jtrain     jtrain2     jtrain3       kielmc      lawsch85\n",
      "  loanapp    lowbrth     mathpnl       meap00_01   meap01\n",
      "  meap93     meapsingle  minwage       mlb1        mroz\n",
      "  murder     nbasal      nyse          okun        openness\n",
      "  pension    phillips    pntsprd       prison      prminwge\n",
      "  rdchem     rdtelec     recid         rental      return\n",
      "  saving     sleep75     slp75_81      smoke       traffic1\n",
      "  traffic2   twoyear     volat         vote1       vote2\n",
      "  voucher    wage1       wage2         wagepan     wageprc\n",
      "  wine\n"
     ]
    }
   ],
   "source": [
    "wdg.data()"
   ]
  },
  {
   "cell_type": "code",
   "execution_count": 27,
   "id": "91630066-a381-4f12-9d57-66b2ed108c3d",
   "metadata": {},
   "outputs": [
    {
     "name": "stdout",
     "output_type": "stream",
     "text": [
      "name of dataset: wage1\n",
      "no of variables: 24\n",
      "no of observations: 526\n",
      "\n",
      "+----------+---------------------------------+\n",
      "| variable | label                           |\n",
      "+----------+---------------------------------+\n",
      "| wage     | average hourly earnings         |\n",
      "| educ     | years of education              |\n",
      "| exper    | years potential experience      |\n",
      "| tenure   | years with current employer     |\n",
      "| nonwhite | =1 if nonwhite                  |\n",
      "| female   | =1 if female                    |\n",
      "| married  | =1 if married                   |\n",
      "| numdep   | number of dependents            |\n",
      "| smsa     | =1 if live in SMSA              |\n",
      "| northcen | =1 if live in north central U.S |\n",
      "| south    | =1 if live in southern region   |\n",
      "| west     | =1 if live in western region    |\n",
      "| construc | =1 if work in construc. indus.  |\n",
      "| ndurman  | =1 if in nondur. manuf. indus.  |\n",
      "| trcommpu | =1 if in trans, commun, pub ut  |\n",
      "| trade    | =1 if in wholesale or retail    |\n",
      "| services | =1 if in services indus.        |\n",
      "| profserv | =1 if in prof. serv. indus.     |\n",
      "| profocc  | =1 if in profess. occupation    |\n",
      "| clerocc  | =1 if in clerical occupation    |\n",
      "| servocc  | =1 if in service occupation     |\n",
      "| lwage    | log(wage)                       |\n",
      "| expersq  | exper^2                         |\n",
      "| tenursq  | tenure^2                        |\n",
      "+----------+---------------------------------+\n",
      "\n",
      "These are data from the 1976 Current Population Survey, collected by\n",
      "Henry Farber when he and I were colleagues at MIT in 1988.\n"
     ]
    }
   ],
   "source": [
    "# Xem mô tả bộ dữ liệu wage1\n",
    "wdg.data('wage1', description=True)"
   ]
  },
  {
   "cell_type": "code",
   "execution_count": 28,
   "id": "c28a667a-20bb-4a83-a0bb-9c25e43a2bb4",
   "metadata": {},
   "outputs": [
    {
     "data": {
      "text/html": [
       "<div>\n",
       "<style scoped>\n",
       "    .dataframe tbody tr th:only-of-type {\n",
       "        vertical-align: middle;\n",
       "    }\n",
       "\n",
       "    .dataframe tbody tr th {\n",
       "        vertical-align: top;\n",
       "    }\n",
       "\n",
       "    .dataframe thead th {\n",
       "        text-align: right;\n",
       "    }\n",
       "</style>\n",
       "<table border=\"1\" class=\"dataframe\">\n",
       "  <thead>\n",
       "    <tr style=\"text-align: right;\">\n",
       "      <th></th>\n",
       "      <th>wage</th>\n",
       "      <th>educ</th>\n",
       "      <th>exper</th>\n",
       "      <th>tenure</th>\n",
       "      <th>nonwhite</th>\n",
       "      <th>female</th>\n",
       "      <th>married</th>\n",
       "      <th>numdep</th>\n",
       "      <th>smsa</th>\n",
       "      <th>northcen</th>\n",
       "      <th>...</th>\n",
       "      <th>trcommpu</th>\n",
       "      <th>trade</th>\n",
       "      <th>services</th>\n",
       "      <th>profserv</th>\n",
       "      <th>profocc</th>\n",
       "      <th>clerocc</th>\n",
       "      <th>servocc</th>\n",
       "      <th>lwage</th>\n",
       "      <th>expersq</th>\n",
       "      <th>tenursq</th>\n",
       "    </tr>\n",
       "  </thead>\n",
       "  <tbody>\n",
       "    <tr>\n",
       "      <th>0</th>\n",
       "      <td>3.10</td>\n",
       "      <td>11</td>\n",
       "      <td>2</td>\n",
       "      <td>0</td>\n",
       "      <td>0</td>\n",
       "      <td>1</td>\n",
       "      <td>0</td>\n",
       "      <td>2</td>\n",
       "      <td>1</td>\n",
       "      <td>0</td>\n",
       "      <td>...</td>\n",
       "      <td>0</td>\n",
       "      <td>0</td>\n",
       "      <td>0</td>\n",
       "      <td>0</td>\n",
       "      <td>0</td>\n",
       "      <td>0</td>\n",
       "      <td>0</td>\n",
       "      <td>1.131402</td>\n",
       "      <td>4</td>\n",
       "      <td>0</td>\n",
       "    </tr>\n",
       "    <tr>\n",
       "      <th>1</th>\n",
       "      <td>3.24</td>\n",
       "      <td>12</td>\n",
       "      <td>22</td>\n",
       "      <td>2</td>\n",
       "      <td>0</td>\n",
       "      <td>1</td>\n",
       "      <td>1</td>\n",
       "      <td>3</td>\n",
       "      <td>1</td>\n",
       "      <td>0</td>\n",
       "      <td>...</td>\n",
       "      <td>0</td>\n",
       "      <td>0</td>\n",
       "      <td>1</td>\n",
       "      <td>0</td>\n",
       "      <td>0</td>\n",
       "      <td>0</td>\n",
       "      <td>1</td>\n",
       "      <td>1.175573</td>\n",
       "      <td>484</td>\n",
       "      <td>4</td>\n",
       "    </tr>\n",
       "    <tr>\n",
       "      <th>2</th>\n",
       "      <td>3.00</td>\n",
       "      <td>11</td>\n",
       "      <td>2</td>\n",
       "      <td>0</td>\n",
       "      <td>0</td>\n",
       "      <td>0</td>\n",
       "      <td>0</td>\n",
       "      <td>2</td>\n",
       "      <td>0</td>\n",
       "      <td>0</td>\n",
       "      <td>...</td>\n",
       "      <td>0</td>\n",
       "      <td>1</td>\n",
       "      <td>0</td>\n",
       "      <td>0</td>\n",
       "      <td>0</td>\n",
       "      <td>0</td>\n",
       "      <td>0</td>\n",
       "      <td>1.098612</td>\n",
       "      <td>4</td>\n",
       "      <td>0</td>\n",
       "    </tr>\n",
       "    <tr>\n",
       "      <th>3</th>\n",
       "      <td>6.00</td>\n",
       "      <td>8</td>\n",
       "      <td>44</td>\n",
       "      <td>28</td>\n",
       "      <td>0</td>\n",
       "      <td>0</td>\n",
       "      <td>1</td>\n",
       "      <td>0</td>\n",
       "      <td>1</td>\n",
       "      <td>0</td>\n",
       "      <td>...</td>\n",
       "      <td>0</td>\n",
       "      <td>0</td>\n",
       "      <td>0</td>\n",
       "      <td>0</td>\n",
       "      <td>0</td>\n",
       "      <td>1</td>\n",
       "      <td>0</td>\n",
       "      <td>1.791759</td>\n",
       "      <td>1936</td>\n",
       "      <td>784</td>\n",
       "    </tr>\n",
       "    <tr>\n",
       "      <th>4</th>\n",
       "      <td>5.30</td>\n",
       "      <td>12</td>\n",
       "      <td>7</td>\n",
       "      <td>2</td>\n",
       "      <td>0</td>\n",
       "      <td>0</td>\n",
       "      <td>1</td>\n",
       "      <td>1</td>\n",
       "      <td>0</td>\n",
       "      <td>0</td>\n",
       "      <td>...</td>\n",
       "      <td>0</td>\n",
       "      <td>0</td>\n",
       "      <td>0</td>\n",
       "      <td>0</td>\n",
       "      <td>0</td>\n",
       "      <td>0</td>\n",
       "      <td>0</td>\n",
       "      <td>1.667707</td>\n",
       "      <td>49</td>\n",
       "      <td>4</td>\n",
       "    </tr>\n",
       "    <tr>\n",
       "      <th>...</th>\n",
       "      <td>...</td>\n",
       "      <td>...</td>\n",
       "      <td>...</td>\n",
       "      <td>...</td>\n",
       "      <td>...</td>\n",
       "      <td>...</td>\n",
       "      <td>...</td>\n",
       "      <td>...</td>\n",
       "      <td>...</td>\n",
       "      <td>...</td>\n",
       "      <td>...</td>\n",
       "      <td>...</td>\n",
       "      <td>...</td>\n",
       "      <td>...</td>\n",
       "      <td>...</td>\n",
       "      <td>...</td>\n",
       "      <td>...</td>\n",
       "      <td>...</td>\n",
       "      <td>...</td>\n",
       "      <td>...</td>\n",
       "      <td>...</td>\n",
       "    </tr>\n",
       "    <tr>\n",
       "      <th>521</th>\n",
       "      <td>15.00</td>\n",
       "      <td>16</td>\n",
       "      <td>14</td>\n",
       "      <td>2</td>\n",
       "      <td>0</td>\n",
       "      <td>1</td>\n",
       "      <td>1</td>\n",
       "      <td>2</td>\n",
       "      <td>0</td>\n",
       "      <td>0</td>\n",
       "      <td>...</td>\n",
       "      <td>0</td>\n",
       "      <td>0</td>\n",
       "      <td>0</td>\n",
       "      <td>1</td>\n",
       "      <td>1</td>\n",
       "      <td>0</td>\n",
       "      <td>0</td>\n",
       "      <td>2.708050</td>\n",
       "      <td>196</td>\n",
       "      <td>4</td>\n",
       "    </tr>\n",
       "    <tr>\n",
       "      <th>522</th>\n",
       "      <td>2.27</td>\n",
       "      <td>10</td>\n",
       "      <td>2</td>\n",
       "      <td>0</td>\n",
       "      <td>0</td>\n",
       "      <td>1</td>\n",
       "      <td>0</td>\n",
       "      <td>3</td>\n",
       "      <td>0</td>\n",
       "      <td>0</td>\n",
       "      <td>...</td>\n",
       "      <td>0</td>\n",
       "      <td>1</td>\n",
       "      <td>0</td>\n",
       "      <td>0</td>\n",
       "      <td>1</td>\n",
       "      <td>0</td>\n",
       "      <td>0</td>\n",
       "      <td>0.819780</td>\n",
       "      <td>4</td>\n",
       "      <td>0</td>\n",
       "    </tr>\n",
       "    <tr>\n",
       "      <th>523</th>\n",
       "      <td>4.67</td>\n",
       "      <td>15</td>\n",
       "      <td>13</td>\n",
       "      <td>18</td>\n",
       "      <td>0</td>\n",
       "      <td>0</td>\n",
       "      <td>1</td>\n",
       "      <td>3</td>\n",
       "      <td>0</td>\n",
       "      <td>0</td>\n",
       "      <td>...</td>\n",
       "      <td>0</td>\n",
       "      <td>0</td>\n",
       "      <td>0</td>\n",
       "      <td>0</td>\n",
       "      <td>1</td>\n",
       "      <td>0</td>\n",
       "      <td>0</td>\n",
       "      <td>1.541159</td>\n",
       "      <td>169</td>\n",
       "      <td>324</td>\n",
       "    </tr>\n",
       "    <tr>\n",
       "      <th>524</th>\n",
       "      <td>11.56</td>\n",
       "      <td>16</td>\n",
       "      <td>5</td>\n",
       "      <td>1</td>\n",
       "      <td>0</td>\n",
       "      <td>0</td>\n",
       "      <td>1</td>\n",
       "      <td>0</td>\n",
       "      <td>0</td>\n",
       "      <td>0</td>\n",
       "      <td>...</td>\n",
       "      <td>0</td>\n",
       "      <td>0</td>\n",
       "      <td>0</td>\n",
       "      <td>0</td>\n",
       "      <td>0</td>\n",
       "      <td>0</td>\n",
       "      <td>0</td>\n",
       "      <td>2.447551</td>\n",
       "      <td>25</td>\n",
       "      <td>1</td>\n",
       "    </tr>\n",
       "    <tr>\n",
       "      <th>525</th>\n",
       "      <td>3.50</td>\n",
       "      <td>14</td>\n",
       "      <td>5</td>\n",
       "      <td>4</td>\n",
       "      <td>1</td>\n",
       "      <td>1</td>\n",
       "      <td>0</td>\n",
       "      <td>2</td>\n",
       "      <td>0</td>\n",
       "      <td>0</td>\n",
       "      <td>...</td>\n",
       "      <td>0</td>\n",
       "      <td>0</td>\n",
       "      <td>0</td>\n",
       "      <td>1</td>\n",
       "      <td>0</td>\n",
       "      <td>1</td>\n",
       "      <td>0</td>\n",
       "      <td>1.252763</td>\n",
       "      <td>25</td>\n",
       "      <td>16</td>\n",
       "    </tr>\n",
       "  </tbody>\n",
       "</table>\n",
       "<p>526 rows × 24 columns</p>\n",
       "</div>"
      ],
      "text/plain": [
       "      wage  educ  exper  tenure  nonwhite  female  married  numdep  smsa  \\\n",
       "0     3.10    11      2       0         0       1        0       2     1   \n",
       "1     3.24    12     22       2         0       1        1       3     1   \n",
       "2     3.00    11      2       0         0       0        0       2     0   \n",
       "3     6.00     8     44      28         0       0        1       0     1   \n",
       "4     5.30    12      7       2         0       0        1       1     0   \n",
       "..     ...   ...    ...     ...       ...     ...      ...     ...   ...   \n",
       "521  15.00    16     14       2         0       1        1       2     0   \n",
       "522   2.27    10      2       0         0       1        0       3     0   \n",
       "523   4.67    15     13      18         0       0        1       3     0   \n",
       "524  11.56    16      5       1         0       0        1       0     0   \n",
       "525   3.50    14      5       4         1       1        0       2     0   \n",
       "\n",
       "     northcen  ...  trcommpu  trade  services  profserv  profocc  clerocc  \\\n",
       "0           0  ...         0      0         0         0        0        0   \n",
       "1           0  ...         0      0         1         0        0        0   \n",
       "2           0  ...         0      1         0         0        0        0   \n",
       "3           0  ...         0      0         0         0        0        1   \n",
       "4           0  ...         0      0         0         0        0        0   \n",
       "..        ...  ...       ...    ...       ...       ...      ...      ...   \n",
       "521         0  ...         0      0         0         1        1        0   \n",
       "522         0  ...         0      1         0         0        1        0   \n",
       "523         0  ...         0      0         0         0        1        0   \n",
       "524         0  ...         0      0         0         0        0        0   \n",
       "525         0  ...         0      0         0         1        0        1   \n",
       "\n",
       "     servocc     lwage  expersq  tenursq  \n",
       "0          0  1.131402        4        0  \n",
       "1          1  1.175573      484        4  \n",
       "2          0  1.098612        4        0  \n",
       "3          0  1.791759     1936      784  \n",
       "4          0  1.667707       49        4  \n",
       "..       ...       ...      ...      ...  \n",
       "521        0  2.708050      196        4  \n",
       "522        0  0.819780        4        0  \n",
       "523        0  1.541159      169      324  \n",
       "524        0  2.447551       25        1  \n",
       "525        0  1.252763       25       16  \n",
       "\n",
       "[526 rows x 24 columns]"
      ]
     },
     "execution_count": 28,
     "metadata": {},
     "output_type": "execute_result"
    }
   ],
   "source": [
    "df = wdg.data('wage1')\n",
    "df"
   ]
  },
  {
   "cell_type": "code",
   "execution_count": 29,
   "id": "2917358d-8746-4599-bb5c-0f54b10ed56b",
   "metadata": {},
   "outputs": [
    {
     "name": "stdout",
     "output_type": "stream",
     "text": [
      "<class 'pandas.core.frame.DataFrame'>\n",
      "RangeIndex: 526 entries, 0 to 525\n",
      "Data columns (total 24 columns):\n",
      " #   Column    Non-Null Count  Dtype  \n",
      "---  ------    --------------  -----  \n",
      " 0   wage      526 non-null    float64\n",
      " 1   educ      526 non-null    int64  \n",
      " 2   exper     526 non-null    int64  \n",
      " 3   tenure    526 non-null    int64  \n",
      " 4   nonwhite  526 non-null    int64  \n",
      " 5   female    526 non-null    int64  \n",
      " 6   married   526 non-null    int64  \n",
      " 7   numdep    526 non-null    int64  \n",
      " 8   smsa      526 non-null    int64  \n",
      " 9   northcen  526 non-null    int64  \n",
      " 10  south     526 non-null    int64  \n",
      " 11  west      526 non-null    int64  \n",
      " 12  construc  526 non-null    int64  \n",
      " 13  ndurman   526 non-null    int64  \n",
      " 14  trcommpu  526 non-null    int64  \n",
      " 15  trade     526 non-null    int64  \n",
      " 16  services  526 non-null    int64  \n",
      " 17  profserv  526 non-null    int64  \n",
      " 18  profocc   526 non-null    int64  \n",
      " 19  clerocc   526 non-null    int64  \n",
      " 20  servocc   526 non-null    int64  \n",
      " 21  lwage     526 non-null    float64\n",
      " 22  expersq   526 non-null    int64  \n",
      " 23  tenursq   526 non-null    int64  \n",
      "dtypes: float64(2), int64(22)\n",
      "memory usage: 98.8 KB\n"
     ]
    }
   ],
   "source": [
    "df.info()"
   ]
  },
  {
   "cell_type": "code",
   "execution_count": 30,
   "id": "214b1993-8016-4410-aad7-bb46bbc7be30",
   "metadata": {},
   "outputs": [
    {
     "data": {
      "text/plain": [
       "wage        0\n",
       "educ        0\n",
       "exper       0\n",
       "tenure      0\n",
       "nonwhite    0\n",
       "female      0\n",
       "married     0\n",
       "numdep      0\n",
       "smsa        0\n",
       "northcen    0\n",
       "south       0\n",
       "west        0\n",
       "construc    0\n",
       "ndurman     0\n",
       "trcommpu    0\n",
       "trade       0\n",
       "services    0\n",
       "profserv    0\n",
       "profocc     0\n",
       "clerocc     0\n",
       "servocc     0\n",
       "lwage       0\n",
       "expersq     0\n",
       "tenursq     0\n",
       "dtype: int64"
      ]
     },
     "execution_count": 30,
     "metadata": {},
     "output_type": "execute_result"
    }
   ],
   "source": [
    "df.isnull().sum()"
   ]
  },
  {
   "cell_type": "code",
   "execution_count": 33,
   "id": "8708f4ac-b1bf-44a9-b6df-c40d15388d50",
   "metadata": {},
   "outputs": [
    {
     "data": {
      "image/png": "[encoded data removed]",
      "text/plain": [
       "<Figure size 360x360 with 1 Axes>"
      ]
     },
     "metadata": {},
     "output_type": "display_data"
    }
   ],
   "source": [
    "sns.displot(df['wage'], kde=True)\n",
    "plt.show()"
   ]
  },
  {
   "cell_type": "code",
   "execution_count": 34,
   "id": "195f60cb-a84d-4b5b-ada8-0a772e55fbed",
   "metadata": {},
   "outputs": [
    {
     "data": {
      "text/html": [
       "<div>\n",
       "<style scoped>\n",
       "    .dataframe tbody tr th:only-of-type {\n",
       "        vertical-align: middle;\n",
       "    }\n",
       "\n",
       "    .dataframe tbody tr th {\n",
       "        vertical-align: top;\n",
       "    }\n",
       "\n",
       "    .dataframe thead th {\n",
       "        text-align: right;\n",
       "    }\n",
       "</style>\n",
       "<table border=\"1\" class=\"dataframe\">\n",
       "  <thead>\n",
       "    <tr style=\"text-align: right;\">\n",
       "      <th></th>\n",
       "      <th>wage</th>\n",
       "      <th>educ</th>\n",
       "    </tr>\n",
       "  </thead>\n",
       "  <tbody>\n",
       "    <tr>\n",
       "      <th>0</th>\n",
       "      <td>3.10</td>\n",
       "      <td>11</td>\n",
       "    </tr>\n",
       "    <tr>\n",
       "      <th>1</th>\n",
       "      <td>3.24</td>\n",
       "      <td>12</td>\n",
       "    </tr>\n",
       "    <tr>\n",
       "      <th>2</th>\n",
       "      <td>3.00</td>\n",
       "      <td>11</td>\n",
       "    </tr>\n",
       "    <tr>\n",
       "      <th>3</th>\n",
       "      <td>6.00</td>\n",
       "      <td>8</td>\n",
       "    </tr>\n",
       "    <tr>\n",
       "      <th>4</th>\n",
       "      <td>5.30</td>\n",
       "      <td>12</td>\n",
       "    </tr>\n",
       "    <tr>\n",
       "      <th>...</th>\n",
       "      <td>...</td>\n",
       "      <td>...</td>\n",
       "    </tr>\n",
       "    <tr>\n",
       "      <th>521</th>\n",
       "      <td>15.00</td>\n",
       "      <td>16</td>\n",
       "    </tr>\n",
       "    <tr>\n",
       "      <th>522</th>\n",
       "      <td>2.27</td>\n",
       "      <td>10</td>\n",
       "    </tr>\n",
       "    <tr>\n",
       "      <th>523</th>\n",
       "      <td>4.67</td>\n",
       "      <td>15</td>\n",
       "    </tr>\n",
       "    <tr>\n",
       "      <th>524</th>\n",
       "      <td>11.56</td>\n",
       "      <td>16</td>\n",
       "    </tr>\n",
       "    <tr>\n",
       "      <th>525</th>\n",
       "      <td>3.50</td>\n",
       "      <td>14</td>\n",
       "    </tr>\n",
       "  </tbody>\n",
       "</table>\n",
       "<p>526 rows × 2 columns</p>\n",
       "</div>"
      ],
      "text/plain": [
       "      wage  educ\n",
       "0     3.10    11\n",
       "1     3.24    12\n",
       "2     3.00    11\n",
       "3     6.00     8\n",
       "4     5.30    12\n",
       "..     ...   ...\n",
       "521  15.00    16\n",
       "522   2.27    10\n",
       "523   4.67    15\n",
       "524  11.56    16\n",
       "525   3.50    14\n",
       "\n",
       "[526 rows x 2 columns]"
      ]
     },
     "execution_count": 34,
     "metadata": {},
     "output_type": "execute_result"
    }
   ],
   "source": [
    "wage_df = df[[\"wage\", \"educ\"]]\n",
    "wage_df"
   ]
  },
  {
   "cell_type": "code",
   "execution_count": 35,
   "id": "f9c64c7a-28d3-4342-9e37-16e91d17b83f",
   "metadata": {},
   "outputs": [],
   "source": [
    "# Fitting\n",
    "model1 = smf.ols(formula=\"wage ~ educ\", data=wage_df) # OLS: Ordinary Least Squares\n",
    "result1 = model1.fit()"
   ]
  },
  {
   "cell_type": "code",
   "execution_count": 36,
   "id": "f097d146-ee3b-4abd-a94f-cb6516078fc5",
   "metadata": {},
   "outputs": [
    {
     "data": {
      "text/html": [
       "<table class=\"simpletable\">\n",
       "<caption>OLS Regression Results</caption>\n",
       "<tr>\n",
       "  <th>Dep. Variable:</th>          <td>wage</td>       <th>  R-squared:         </th> <td>   0.165</td>\n",
       "</tr>\n",
       "<tr>\n",
       "  <th>Model:</th>                   <td>OLS</td>       <th>  Adj. R-squared:    </th> <td>   0.163</td>\n",
       "</tr>\n",
       "<tr>\n",
       "  <th>Method:</th>             <td>Least Squares</td>  <th>  F-statistic:       </th> <td>   103.4</td>\n",
       "</tr>\n",
       "<tr>\n",
       "  <th>Date:</th>             <td>Thu, 11 Jan 2024</td> <th>  Prob (F-statistic):</th> <td>2.78e-22</td>\n",
       "</tr>\n",
       "<tr>\n",
       "  <th>Time:</th>                 <td>20:47:22</td>     <th>  Log-Likelihood:    </th> <td> -1385.7</td>\n",
       "</tr>\n",
       "<tr>\n",
       "  <th>No. Observations:</th>      <td>   526</td>      <th>  AIC:               </th> <td>   2775.</td>\n",
       "</tr>\n",
       "<tr>\n",
       "  <th>Df Residuals:</th>          <td>   524</td>      <th>  BIC:               </th> <td>   2784.</td>\n",
       "</tr>\n",
       "<tr>\n",
       "  <th>Df Model:</th>              <td>     1</td>      <th>                     </th>     <td> </td>   \n",
       "</tr>\n",
       "<tr>\n",
       "  <th>Covariance Type:</th>      <td>nonrobust</td>    <th>                     </th>     <td> </td>   \n",
       "</tr>\n",
       "</table>\n",
       "<table class=\"simpletable\">\n",
       "<tr>\n",
       "      <td></td>         <th>coef</th>     <th>std err</th>      <th>t</th>      <th>P>|t|</th>  <th>[0.025</th>    <th>0.975]</th>  \n",
       "</tr>\n",
       "<tr>\n",
       "  <th>Intercept</th> <td>   -0.9049</td> <td>    0.685</td> <td>   -1.321</td> <td> 0.187</td> <td>   -2.250</td> <td>    0.441</td>\n",
       "</tr>\n",
       "<tr>\n",
       "  <th>educ</th>      <td>    0.5414</td> <td>    0.053</td> <td>   10.167</td> <td> 0.000</td> <td>    0.437</td> <td>    0.646</td>\n",
       "</tr>\n",
       "</table>\n",
       "<table class=\"simpletable\">\n",
       "<tr>\n",
       "  <th>Omnibus:</th>       <td>212.554</td> <th>  Durbin-Watson:     </th> <td>   1.824</td> \n",
       "</tr>\n",
       "<tr>\n",
       "  <th>Prob(Omnibus):</th> <td> 0.000</td>  <th>  Jarque-Bera (JB):  </th> <td> 807.843</td> \n",
       "</tr>\n",
       "<tr>\n",
       "  <th>Skew:</th>          <td> 1.861</td>  <th>  Prob(JB):          </th> <td>3.79e-176</td>\n",
       "</tr>\n",
       "<tr>\n",
       "  <th>Kurtosis:</th>      <td> 7.797</td>  <th>  Cond. No.          </th> <td>    60.2</td> \n",
       "</tr>\n",
       "</table><br/><br/>Notes:<br/>[1] Standard Errors assume that the covariance matrix of the errors is correctly specified."
      ],
      "text/latex": [
       "\\begin{center}\n",
       "\\begin{tabular}{lclc}\n",
       "\\toprule\n",
       "\\textbf{Dep. Variable:}    &       wage       & \\textbf{  R-squared:         } &     0.165   \\\\\n",
       "\\textbf{Model:}            &       OLS        & \\textbf{  Adj. R-squared:    } &     0.163   \\\\\n",
       "\\textbf{Method:}           &  Least Squares   & \\textbf{  F-statistic:       } &     103.4   \\\\\n",
       "\\textbf{Date:}             & Thu, 11 Jan 2024 & \\textbf{  Prob (F-statistic):} &  2.78e-22   \\\\\n",
       "\\textbf{Time:}             &     20:47:22     & \\textbf{  Log-Likelihood:    } &   -1385.7   \\\\\n",
       "\\textbf{No. Observations:} &         526      & \\textbf{  AIC:               } &     2775.   \\\\\n",
       "\\textbf{Df Residuals:}     &         524      & \\textbf{  BIC:               } &     2784.   \\\\\n",
       "\\textbf{Df Model:}         &           1      & \\textbf{                     } &             \\\\\n",
       "\\textbf{Covariance Type:}  &    nonrobust     & \\textbf{                     } &             \\\\\n",
       "\\bottomrule\n",
       "\\end{tabular}\n",
       "\\begin{tabular}{lcccccc}\n",
       "                   & \\textbf{coef} & \\textbf{std err} & \\textbf{t} & \\textbf{P$> |$t$|$} & \\textbf{[0.025} & \\textbf{0.975]}  \\\\\n",
       "\\midrule\n",
       "\\textbf{Intercept} &      -0.9049  &        0.685     &    -1.321  &         0.187        &       -2.250    &        0.441     \\\\\n",
       "\\textbf{educ}      &       0.5414  &        0.053     &    10.167  &         0.000        &        0.437    &        0.646     \\\\\n",
       "\\bottomrule\n",
       "\\end{tabular}\n",
       "\\begin{tabular}{lclc}\n",
       "\\textbf{Omnibus:}       & 212.554 & \\textbf{  Durbin-Watson:     } &     1.824  \\\\\n",
       "\\textbf{Prob(Omnibus):} &   0.000 & \\textbf{  Jarque-Bera (JB):  } &   807.843  \\\\\n",
       "\\textbf{Skew:}          &   1.861 & \\textbf{  Prob(JB):          } & 3.79e-176  \\\\\n",
       "\\textbf{Kurtosis:}      &   7.797 & \\textbf{  Cond. No.          } &      60.2  \\\\\n",
       "\\bottomrule\n",
       "\\end{tabular}\n",
       "%\\caption{OLS Regression Results}\n",
       "\\end{center}\n",
       "\n",
       "Notes: \\newline\n",
       " [1] Standard Errors assume that the covariance matrix of the errors is correctly specified."
      ],
      "text/plain": [
       "<class 'statsmodels.iolib.summary.Summary'>\n",
       "\"\"\"\n",
       "                            OLS Regression Results                            \n",
       "==============================================================================\n",
       "Dep. Variable:                   wage   R-squared:                       0.165\n",
       "Model:                            OLS   Adj. R-squared:                  0.163\n",
       "Method:                 Least Squares   F-statistic:                     103.4\n",
       "Date:                Thu, 11 Jan 2024   Prob (F-statistic):           2.78e-22\n",
       "Time:                        20:47:22   Log-Likelihood:                -1385.7\n",
       "No. Observations:                 526   AIC:                             2775.\n",
       "Df Residuals:                     524   BIC:                             2784.\n",
       "Df Model:                           1                                         \n",
       "Covariance Type:            nonrobust                                         \n",
       "==============================================================================\n",
       "                 coef    std err          t      P>|t|      [0.025      0.975]\n",
       "------------------------------------------------------------------------------\n",
       "Intercept     -0.9049      0.685     -1.321      0.187      -2.250       0.441\n",
       "educ           0.5414      0.053     10.167      0.000       0.437       0.646\n",
       "==============================================================================\n",
       "Omnibus:                      212.554   Durbin-Watson:                   1.824\n",
       "Prob(Omnibus):                  0.000   Jarque-Bera (JB):              807.843\n",
       "Skew:                           1.861   Prob(JB):                    3.79e-176\n",
       "Kurtosis:                       7.797   Cond. No.                         60.2\n",
       "==============================================================================\n",
       "\n",
       "Notes:\n",
       "[1] Standard Errors assume that the covariance matrix of the errors is correctly specified.\n",
       "\"\"\""
      ]
     },
     "execution_count": 36,
     "metadata": {},
     "output_type": "execute_result"
    }
   ],
   "source": [
    "# Xem kết quả tổng hợp\n",
    "result1.summary()"
   ]
  },
  {
   "cell_type": "code",
   "execution_count": 37,
   "id": "9cb143a3-ae0a-4a7d-8c97-2b0b2780d511",
   "metadata": {},
   "outputs": [
    {
     "data": {
      "text/plain": [
       "Intercept   -0.904852\n",
       "educ         0.541359\n",
       "dtype: float64"
      ]
     },
     "execution_count": 37,
     "metadata": {},
     "output_type": "execute_result"
    }
   ],
   "source": [
    "result1.params"
   ]
  },
  {
   "cell_type": "code",
   "execution_count": 39,
   "id": "44c58478-7287-4834-96bf-92da4c568e8b",
   "metadata": {},
   "outputs": [
    {
     "name": "stdout",
     "output_type": "stream",
     "text": [
      "wage_hat = -0.904852 + (0.541359)educ\n"
     ]
    }
   ],
   "source": [
    "print(f\"wage_hat = {result1.params['Intercept']:,.6f} + ({result1.params['educ']:,.6f})educ\")"
   ]
  },
  {
   "cell_type": "code",
   "execution_count": 40,
   "id": "6f55e82f-ab12-49d5-aeee-b3b9d44d194c",
   "metadata": {},
   "outputs": [
    {
     "name": "stdout",
     "output_type": "stream",
     "text": [
      "wage_hat = -0.904852 + (0.541359)educ\n"
     ]
    }
   ],
   "source": [
    "print(f\"wage_hat = {result1.params[0]:,.6f} + ({result1.params[1]:,.6f})educ\")"
   ]
  },
  {
   "cell_type": "markdown",
   "id": "50f996ea-7ed8-4d0f-9faf-de6b6b4b9784",
   "metadata": {},
   "source": [
    "<h4 style=\"color: blue\">3.1.1. Bảng kết quả hồi quy đơn</h4>"
   ]
  },
  {
   "cell_type": "code",
   "execution_count": 41,
   "id": "6b5df3a0-01f8-420e-98e7-2d74a289385d",
   "metadata": {},
   "outputs": [
    {
     "data": {
      "text/html": [
       "<div>\n",
       "<style scoped>\n",
       "    .dataframe tbody tr th:only-of-type {\n",
       "        vertical-align: middle;\n",
       "    }\n",
       "\n",
       "    .dataframe tbody tr th {\n",
       "        vertical-align: top;\n",
       "    }\n",
       "\n",
       "    .dataframe thead th {\n",
       "        text-align: right;\n",
       "    }\n",
       "</style>\n",
       "<table border=\"1\" class=\"dataframe\">\n",
       "  <thead>\n",
       "    <tr style=\"text-align: right;\">\n",
       "      <th></th>\n",
       "      <th>wage</th>\n",
       "      <th>educ</th>\n",
       "      <th>wage_hat</th>\n",
       "      <th>wage_hat_fitted</th>\n",
       "    </tr>\n",
       "  </thead>\n",
       "  <tbody>\n",
       "    <tr>\n",
       "      <th>0</th>\n",
       "      <td>3.10</td>\n",
       "      <td>11</td>\n",
       "      <td>5.050100</td>\n",
       "      <td>5.050100</td>\n",
       "    </tr>\n",
       "    <tr>\n",
       "      <th>1</th>\n",
       "      <td>3.24</td>\n",
       "      <td>12</td>\n",
       "      <td>5.591459</td>\n",
       "      <td>5.591459</td>\n",
       "    </tr>\n",
       "    <tr>\n",
       "      <th>2</th>\n",
       "      <td>3.00</td>\n",
       "      <td>11</td>\n",
       "      <td>5.050100</td>\n",
       "      <td>5.050100</td>\n",
       "    </tr>\n",
       "    <tr>\n",
       "      <th>3</th>\n",
       "      <td>6.00</td>\n",
       "      <td>8</td>\n",
       "      <td>3.426022</td>\n",
       "      <td>3.426022</td>\n",
       "    </tr>\n",
       "    <tr>\n",
       "      <th>4</th>\n",
       "      <td>5.30</td>\n",
       "      <td>12</td>\n",
       "      <td>5.591459</td>\n",
       "      <td>5.591459</td>\n",
       "    </tr>\n",
       "    <tr>\n",
       "      <th>...</th>\n",
       "      <td>...</td>\n",
       "      <td>...</td>\n",
       "      <td>...</td>\n",
       "      <td>...</td>\n",
       "    </tr>\n",
       "    <tr>\n",
       "      <th>521</th>\n",
       "      <td>15.00</td>\n",
       "      <td>16</td>\n",
       "      <td>7.756896</td>\n",
       "      <td>7.756896</td>\n",
       "    </tr>\n",
       "    <tr>\n",
       "      <th>522</th>\n",
       "      <td>2.27</td>\n",
       "      <td>10</td>\n",
       "      <td>4.508741</td>\n",
       "      <td>4.508741</td>\n",
       "    </tr>\n",
       "    <tr>\n",
       "      <th>523</th>\n",
       "      <td>4.67</td>\n",
       "      <td>15</td>\n",
       "      <td>7.215537</td>\n",
       "      <td>7.215537</td>\n",
       "    </tr>\n",
       "    <tr>\n",
       "      <th>524</th>\n",
       "      <td>11.56</td>\n",
       "      <td>16</td>\n",
       "      <td>7.756896</td>\n",
       "      <td>7.756896</td>\n",
       "    </tr>\n",
       "    <tr>\n",
       "      <th>525</th>\n",
       "      <td>3.50</td>\n",
       "      <td>14</td>\n",
       "      <td>6.674178</td>\n",
       "      <td>6.674178</td>\n",
       "    </tr>\n",
       "  </tbody>\n",
       "</table>\n",
       "<p>526 rows × 4 columns</p>\n",
       "</div>"
      ],
      "text/plain": [
       "      wage  educ  wage_hat  wage_hat_fitted\n",
       "0     3.10    11  5.050100         5.050100\n",
       "1     3.24    12  5.591459         5.591459\n",
       "2     3.00    11  5.050100         5.050100\n",
       "3     6.00     8  3.426022         3.426022\n",
       "4     5.30    12  5.591459         5.591459\n",
       "..     ...   ...       ...              ...\n",
       "521  15.00    16  7.756896         7.756896\n",
       "522   2.27    10  4.508741         4.508741\n",
       "523   4.67    15  7.215537         7.215537\n",
       "524  11.56    16  7.756896         7.756896\n",
       "525   3.50    14  6.674178         6.674178\n",
       "\n",
       "[526 rows x 4 columns]"
      ]
     },
     "execution_count": 41,
     "metadata": {},
     "output_type": "execute_result"
    }
   ],
   "source": [
    "# Tạo DataFrame kết quả\n",
    "df_result = pd.DataFrame({\n",
    "    'wage': wage_df['wage'],\n",
    "    'educ': wage_df['educ'],\n",
    "    'wage_hat': result1.params['Intercept'] + result1.params['educ'] * wage_df['educ'],\n",
    "    'wage_hat_fitted': result1.fittedvalues\n",
    "})\n",
    "df_result"
   ]
  },
  {
   "cell_type": "markdown",
   "id": "b232e8e6-35cf-466d-89a7-5130833a62ba",
   "metadata": {},
   "source": [
    "<h4 style=\"color: blue\">3.1.2. Plot dữ liệu</h4>"
   ]
  },
  {
   "cell_type": "code",
   "execution_count": 42,
   "id": "c8780394-ad73-4c5e-bb95-a8c56546187e",
   "metadata": {},
   "outputs": [
    {
     "data": {
      "image/png": "[encoded data removed]",
      "text/plain": [
       "<Figure size 720x432 with 1 Axes>"
      ]
     },
     "metadata": {},
     "output_type": "display_data"
    }
   ],
   "source": [
    "# Plot bằng tay\n",
    "fig = plt.figure(figsize=(10,6))\n",
    "plt.plot(wage_df['educ'], wage_df['wage'], marker='o', linestyle='')\n",
    "# plt.scatter(x=wage_df['educ'], y=wage_df['wage'])\n",
    "plt.plot(wage_df['educ'], result1.fittedvalues, color='r', linestyle='-')\n",
    "plt.xlabel('educ')\n",
    "plt.ylabel('wage')\n",
    "plt.show()"
   ]
  },
  {
   "cell_type": "code",
   "execution_count": 43,
   "id": "c430236b-a4c6-4287-85a0-622e91774a17",
   "metadata": {},
   "outputs": [
    {
     "data": {
      "image/png": "[encoded data removed]",
      "text/plain": [
       "<Figure size 720x432 with 1 Axes>"
      ]
     },
     "metadata": {},
     "output_type": "display_data"
    }
   ],
   "source": [
    "# Dùng hàm regplot của Seaborn\n",
    "plt.figure(figsize=(10,6))\n",
    "sns.regplot(x=wage_df['educ'], y=wage_df['wage'], line_kws={'color': 'red'})\n",
    "plt.show()"
   ]
  },
  {
   "cell_type": "markdown",
   "id": "ad1276a0-7954-44f4-85ea-239f1a2edf3e",
   "metadata": {},
   "source": [
    "<h3 style=\"color: blue\">3.2. Hồi quy bội</h3>\n",
    "$$\n",
    "\\Large \\hat{y}=\\hat{\\beta_0}+\\hat{\\beta_1}x_1+\\hat{\\beta_2}x_2+...+\\hat{\\beta_k}x_k\n",
    "$$\n",
    "\n",
    "- Biến phụ thuộc y phụ thuộc vào nhiều biến độc lập x\n",
    "- Lấy ví dụ: thêm 2 biến exper và tenure vào mô hình\n",
    "$$\n",
    "\\Large \\hat{wage}=\\hat{\\beta_0}+\\hat{\\beta_1}educ+\\hat{\\beta_2}exper + \\hat{\\beta_3}tenure\n",
    "$$\n"
   ]
  },
  {
   "cell_type": "code",
   "execution_count": 44,
   "id": "94db6d00-8d14-4fce-bf98-492f93afe239",
   "metadata": {},
   "outputs": [],
   "source": [
    "wage_df2 = df[[\"wage\", \"educ\", \"exper\", \"tenure\"]]"
   ]
  },
  {
   "cell_type": "code",
   "execution_count": 46,
   "id": "69caa52e-3c30-4aec-8434-8e759599acfb",
   "metadata": {},
   "outputs": [
    {
     "data": {
      "image/png": "[encoded data removed]",
      "text/plain": [
       "<Figure size 864x288 with 3 Axes>"
      ]
     },
     "metadata": {},
     "output_type": "display_data"
    }
   ],
   "source": [
    "sns.pairplot(wage_df2, y_vars=\"wage\", x_vars=[\"educ\", \"exper\", \"tenure\"], height=4, kind=\"reg\", plot_kws={'line_kws': {'color': 'red'}})\n",
    "plt.show()"
   ]
  },
  {
   "cell_type": "code",
   "execution_count": 47,
   "id": "74d94694-c46f-4055-999b-9aa5f2c0ac35",
   "metadata": {},
   "outputs": [],
   "source": [
    "# Fitting\n",
    "model2 = smf.ols(formula=\"wage ~ educ + exper + tenure\", data=wage_df2) # OLS: Ordinary Least Squares\n",
    "result2 = model2.fit()"
   ]
  },
  {
   "cell_type": "code",
   "execution_count": 48,
   "id": "3883fd8d-23da-4196-b67a-9bbe2d2b0fbe",
   "metadata": {},
   "outputs": [
    {
     "data": {
      "text/html": [
       "<table class=\"simpletable\">\n",
       "<caption>OLS Regression Results</caption>\n",
       "<tr>\n",
       "  <th>Dep. Variable:</th>          <td>wage</td>       <th>  R-squared:         </th> <td>   0.306</td>\n",
       "</tr>\n",
       "<tr>\n",
       "  <th>Model:</th>                   <td>OLS</td>       <th>  Adj. R-squared:    </th> <td>   0.302</td>\n",
       "</tr>\n",
       "<tr>\n",
       "  <th>Method:</th>             <td>Least Squares</td>  <th>  F-statistic:       </th> <td>   76.87</td>\n",
       "</tr>\n",
       "<tr>\n",
       "  <th>Date:</th>             <td>Thu, 11 Jan 2024</td> <th>  Prob (F-statistic):</th> <td>3.41e-41</td>\n",
       "</tr>\n",
       "<tr>\n",
       "  <th>Time:</th>                 <td>21:07:06</td>     <th>  Log-Likelihood:    </th> <td> -1336.8</td>\n",
       "</tr>\n",
       "<tr>\n",
       "  <th>No. Observations:</th>      <td>   526</td>      <th>  AIC:               </th> <td>   2682.</td>\n",
       "</tr>\n",
       "<tr>\n",
       "  <th>Df Residuals:</th>          <td>   522</td>      <th>  BIC:               </th> <td>   2699.</td>\n",
       "</tr>\n",
       "<tr>\n",
       "  <th>Df Model:</th>              <td>     3</td>      <th>                     </th>     <td> </td>   \n",
       "</tr>\n",
       "<tr>\n",
       "  <th>Covariance Type:</th>      <td>nonrobust</td>    <th>                     </th>     <td> </td>   \n",
       "</tr>\n",
       "</table>\n",
       "<table class=\"simpletable\">\n",
       "<tr>\n",
       "      <td></td>         <th>coef</th>     <th>std err</th>      <th>t</th>      <th>P>|t|</th>  <th>[0.025</th>    <th>0.975]</th>  \n",
       "</tr>\n",
       "<tr>\n",
       "  <th>Intercept</th> <td>   -2.8727</td> <td>    0.729</td> <td>   -3.941</td> <td> 0.000</td> <td>   -4.305</td> <td>   -1.441</td>\n",
       "</tr>\n",
       "<tr>\n",
       "  <th>educ</th>      <td>    0.5990</td> <td>    0.051</td> <td>   11.679</td> <td> 0.000</td> <td>    0.498</td> <td>    0.700</td>\n",
       "</tr>\n",
       "<tr>\n",
       "  <th>exper</th>     <td>    0.0223</td> <td>    0.012</td> <td>    1.853</td> <td> 0.064</td> <td>   -0.001</td> <td>    0.046</td>\n",
       "</tr>\n",
       "<tr>\n",
       "  <th>tenure</th>    <td>    0.1693</td> <td>    0.022</td> <td>    7.820</td> <td> 0.000</td> <td>    0.127</td> <td>    0.212</td>\n",
       "</tr>\n",
       "</table>\n",
       "<table class=\"simpletable\">\n",
       "<tr>\n",
       "  <th>Omnibus:</th>       <td>179.597</td> <th>  Durbin-Watson:     </th> <td>   1.791</td> \n",
       "</tr>\n",
       "<tr>\n",
       "  <th>Prob(Omnibus):</th> <td> 0.000</td>  <th>  Jarque-Bera (JB):  </th> <td> 650.808</td> \n",
       "</tr>\n",
       "<tr>\n",
       "  <th>Skew:</th>          <td> 1.555</td>  <th>  Prob(JB):          </th> <td>4.77e-142</td>\n",
       "</tr>\n",
       "<tr>\n",
       "  <th>Kurtosis:</th>      <td> 7.475</td>  <th>  Cond. No.          </th> <td>    135.</td> \n",
       "</tr>\n",
       "</table><br/><br/>Notes:<br/>[1] Standard Errors assume that the covariance matrix of the errors is correctly specified."
      ],
      "text/latex": [
       "\\begin{center}\n",
       "\\begin{tabular}{lclc}\n",
       "\\toprule\n",
       "\\textbf{Dep. Variable:}    &       wage       & \\textbf{  R-squared:         } &     0.306   \\\\\n",
       "\\textbf{Model:}            &       OLS        & \\textbf{  Adj. R-squared:    } &     0.302   \\\\\n",
       "\\textbf{Method:}           &  Least Squares   & \\textbf{  F-statistic:       } &     76.87   \\\\\n",
       "\\textbf{Date:}             & Thu, 11 Jan 2024 & \\textbf{  Prob (F-statistic):} &  3.41e-41   \\\\\n",
       "\\textbf{Time:}             &     21:07:06     & \\textbf{  Log-Likelihood:    } &   -1336.8   \\\\\n",
       "\\textbf{No. Observations:} &         526      & \\textbf{  AIC:               } &     2682.   \\\\\n",
       "\\textbf{Df Residuals:}     &         522      & \\textbf{  BIC:               } &     2699.   \\\\\n",
       "\\textbf{Df Model:}         &           3      & \\textbf{                     } &             \\\\\n",
       "\\textbf{Covariance Type:}  &    nonrobust     & \\textbf{                     } &             \\\\\n",
       "\\bottomrule\n",
       "\\end{tabular}\n",
       "\\begin{tabular}{lcccccc}\n",
       "                   & \\textbf{coef} & \\textbf{std err} & \\textbf{t} & \\textbf{P$> |$t$|$} & \\textbf{[0.025} & \\textbf{0.975]}  \\\\\n",
       "\\midrule\n",
       "\\textbf{Intercept} &      -2.8727  &        0.729     &    -3.941  &         0.000        &       -4.305    &       -1.441     \\\\\n",
       "\\textbf{educ}      &       0.5990  &        0.051     &    11.679  &         0.000        &        0.498    &        0.700     \\\\\n",
       "\\textbf{exper}     &       0.0223  &        0.012     &     1.853  &         0.064        &       -0.001    &        0.046     \\\\\n",
       "\\textbf{tenure}    &       0.1693  &        0.022     &     7.820  &         0.000        &        0.127    &        0.212     \\\\\n",
       "\\bottomrule\n",
       "\\end{tabular}\n",
       "\\begin{tabular}{lclc}\n",
       "\\textbf{Omnibus:}       & 179.597 & \\textbf{  Durbin-Watson:     } &     1.791  \\\\\n",
       "\\textbf{Prob(Omnibus):} &   0.000 & \\textbf{  Jarque-Bera (JB):  } &   650.808  \\\\\n",
       "\\textbf{Skew:}          &   1.555 & \\textbf{  Prob(JB):          } & 4.77e-142  \\\\\n",
       "\\textbf{Kurtosis:}      &   7.475 & \\textbf{  Cond. No.          } &      135.  \\\\\n",
       "\\bottomrule\n",
       "\\end{tabular}\n",
       "%\\caption{OLS Regression Results}\n",
       "\\end{center}\n",
       "\n",
       "Notes: \\newline\n",
       " [1] Standard Errors assume that the covariance matrix of the errors is correctly specified."
      ],
      "text/plain": [
       "<class 'statsmodels.iolib.summary.Summary'>\n",
       "\"\"\"\n",
       "                            OLS Regression Results                            \n",
       "==============================================================================\n",
       "Dep. Variable:                   wage   R-squared:                       0.306\n",
       "Model:                            OLS   Adj. R-squared:                  0.302\n",
       "Method:                 Least Squares   F-statistic:                     76.87\n",
       "Date:                Thu, 11 Jan 2024   Prob (F-statistic):           3.41e-41\n",
       "Time:                        21:07:06   Log-Likelihood:                -1336.8\n",
       "No. Observations:                 526   AIC:                             2682.\n",
       "Df Residuals:                     522   BIC:                             2699.\n",
       "Df Model:                           3                                         \n",
       "Covariance Type:            nonrobust                                         \n",
       "==============================================================================\n",
       "                 coef    std err          t      P>|t|      [0.025      0.975]\n",
       "------------------------------------------------------------------------------\n",
       "Intercept     -2.8727      0.729     -3.941      0.000      -4.305      -1.441\n",
       "educ           0.5990      0.051     11.679      0.000       0.498       0.700\n",
       "exper          0.0223      0.012      1.853      0.064      -0.001       0.046\n",
       "tenure         0.1693      0.022      7.820      0.000       0.127       0.212\n",
       "==============================================================================\n",
       "Omnibus:                      179.597   Durbin-Watson:                   1.791\n",
       "Prob(Omnibus):                  0.000   Jarque-Bera (JB):              650.808\n",
       "Skew:                           1.555   Prob(JB):                    4.77e-142\n",
       "Kurtosis:                       7.475   Cond. No.                         135.\n",
       "==============================================================================\n",
       "\n",
       "Notes:\n",
       "[1] Standard Errors assume that the covariance matrix of the errors is correctly specified.\n",
       "\"\"\""
      ]
     },
     "execution_count": 48,
     "metadata": {},
     "output_type": "execute_result"
    }
   ],
   "source": [
    "result2.summary()"
   ]
  },
  {
   "cell_type": "code",
   "execution_count": 49,
   "id": "43361d29-e78b-4338-9ef6-94ea5820cb40",
   "metadata": {},
   "outputs": [
    {
     "data": {
      "text/plain": [
       "Intercept   -2.872735\n",
       "educ         0.598965\n",
       "exper        0.022340\n",
       "tenure       0.169269\n",
       "dtype: float64"
      ]
     },
     "execution_count": 49,
     "metadata": {},
     "output_type": "execute_result"
    }
   ],
   "source": [
    "result2.params"
   ]
  },
  {
   "cell_type": "code",
   "execution_count": 51,
   "id": "6cb6a12a-5be8-4689-bd5b-5408a8c61ed4",
   "metadata": {},
   "outputs": [
    {
     "name": "stdout",
     "output_type": "stream",
     "text": [
      "wage_hat = -2.872735 + (0.598965)educ + (0.022340)exper + (0.169269)tenure\n"
     ]
    }
   ],
   "source": [
    "print(f\"wage_hat = {result2.params['Intercept']:,.6f} + ({result2.params['educ']:,.6f})educ + ({result2.params['exper']:,.6f})exper + ({result2.params['tenure']:,.6f})tenure\")"
   ]
  },
  {
   "cell_type": "markdown",
   "id": "9a7b4b5b-bc32-4d56-992d-715481f8e642",
   "metadata": {},
   "source": [
    "<h4 style=\"color: blue\">3.2.1. Bảng kết quả hồi quy bội</h4>"
   ]
  },
  {
   "cell_type": "code",
   "execution_count": 52,
   "id": "c20fe58f-f076-4ca9-9590-d2024f291d2c",
   "metadata": {},
   "outputs": [
    {
     "data": {
      "text/html": [
       "<div>\n",
       "<style scoped>\n",
       "    .dataframe tbody tr th:only-of-type {\n",
       "        vertical-align: middle;\n",
       "    }\n",
       "\n",
       "    .dataframe tbody tr th {\n",
       "        vertical-align: top;\n",
       "    }\n",
       "\n",
       "    .dataframe thead th {\n",
       "        text-align: right;\n",
       "    }\n",
       "</style>\n",
       "<table border=\"1\" class=\"dataframe\">\n",
       "  <thead>\n",
       "    <tr style=\"text-align: right;\">\n",
       "      <th></th>\n",
       "      <th>wage</th>\n",
       "      <th>educ</th>\n",
       "      <th>exper</th>\n",
       "      <th>tenure</th>\n",
       "      <th>wage_hat</th>\n",
       "      <th>wage_hat_fitted</th>\n",
       "    </tr>\n",
       "  </thead>\n",
       "  <tbody>\n",
       "    <tr>\n",
       "      <th>0</th>\n",
       "      <td>3.10</td>\n",
       "      <td>11</td>\n",
       "      <td>2</td>\n",
       "      <td>0</td>\n",
       "      <td>3.760560</td>\n",
       "      <td>3.760560</td>\n",
       "    </tr>\n",
       "    <tr>\n",
       "      <th>1</th>\n",
       "      <td>3.24</td>\n",
       "      <td>12</td>\n",
       "      <td>22</td>\n",
       "      <td>2</td>\n",
       "      <td>5.144853</td>\n",
       "      <td>5.144853</td>\n",
       "    </tr>\n",
       "    <tr>\n",
       "      <th>2</th>\n",
       "      <td>3.00</td>\n",
       "      <td>11</td>\n",
       "      <td>2</td>\n",
       "      <td>0</td>\n",
       "      <td>3.760560</td>\n",
       "      <td>3.760560</td>\n",
       "    </tr>\n",
       "    <tr>\n",
       "      <th>3</th>\n",
       "      <td>6.00</td>\n",
       "      <td>8</td>\n",
       "      <td>44</td>\n",
       "      <td>28</td>\n",
       "      <td>7.641447</td>\n",
       "      <td>7.641447</td>\n",
       "    </tr>\n",
       "    <tr>\n",
       "      <th>4</th>\n",
       "      <td>5.30</td>\n",
       "      <td>12</td>\n",
       "      <td>7</td>\n",
       "      <td>2</td>\n",
       "      <td>4.809760</td>\n",
       "      <td>4.809760</td>\n",
       "    </tr>\n",
       "    <tr>\n",
       "      <th>...</th>\n",
       "      <td>...</td>\n",
       "      <td>...</td>\n",
       "      <td>...</td>\n",
       "      <td>...</td>\n",
       "      <td>...</td>\n",
       "      <td>...</td>\n",
       "    </tr>\n",
       "    <tr>\n",
       "      <th>521</th>\n",
       "      <td>15.00</td>\n",
       "      <td>16</td>\n",
       "      <td>14</td>\n",
       "      <td>2</td>\n",
       "      <td>7.361997</td>\n",
       "      <td>7.361997</td>\n",
       "    </tr>\n",
       "    <tr>\n",
       "      <th>522</th>\n",
       "      <td>2.27</td>\n",
       "      <td>10</td>\n",
       "      <td>2</td>\n",
       "      <td>0</td>\n",
       "      <td>3.161595</td>\n",
       "      <td>3.161595</td>\n",
       "    </tr>\n",
       "    <tr>\n",
       "      <th>523</th>\n",
       "      <td>4.67</td>\n",
       "      <td>15</td>\n",
       "      <td>13</td>\n",
       "      <td>18</td>\n",
       "      <td>9.448991</td>\n",
       "      <td>9.448991</td>\n",
       "    </tr>\n",
       "    <tr>\n",
       "      <th>524</th>\n",
       "      <td>11.56</td>\n",
       "      <td>16</td>\n",
       "      <td>5</td>\n",
       "      <td>1</td>\n",
       "      <td>6.991672</td>\n",
       "      <td>6.991672</td>\n",
       "    </tr>\n",
       "    <tr>\n",
       "      <th>525</th>\n",
       "      <td>3.50</td>\n",
       "      <td>14</td>\n",
       "      <td>5</td>\n",
       "      <td>4</td>\n",
       "      <td>6.301548</td>\n",
       "      <td>6.301548</td>\n",
       "    </tr>\n",
       "  </tbody>\n",
       "</table>\n",
       "<p>526 rows × 6 columns</p>\n",
       "</div>"
      ],
      "text/plain": [
       "      wage  educ  exper  tenure  wage_hat  wage_hat_fitted\n",
       "0     3.10    11      2       0  3.760560         3.760560\n",
       "1     3.24    12     22       2  5.144853         5.144853\n",
       "2     3.00    11      2       0  3.760560         3.760560\n",
       "3     6.00     8     44      28  7.641447         7.641447\n",
       "4     5.30    12      7       2  4.809760         4.809760\n",
       "..     ...   ...    ...     ...       ...              ...\n",
       "521  15.00    16     14       2  7.361997         7.361997\n",
       "522   2.27    10      2       0  3.161595         3.161595\n",
       "523   4.67    15     13      18  9.448991         9.448991\n",
       "524  11.56    16      5       1  6.991672         6.991672\n",
       "525   3.50    14      5       4  6.301548         6.301548\n",
       "\n",
       "[526 rows x 6 columns]"
      ]
     },
     "execution_count": 52,
     "metadata": {},
     "output_type": "execute_result"
    }
   ],
   "source": [
    "# Tạo DataFrame kết quả\n",
    "df_result2 = pd.DataFrame({\n",
    "    'wage': wage_df2['wage'],\n",
    "    'educ': wage_df2['educ'],\n",
    "    'exper': wage_df2['exper'],\n",
    "    'tenure': wage_df2['tenure'],\n",
    "    'wage_hat': result2.params['Intercept'] + result2.params['educ'] * wage_df2['educ'] + result2.params['exper'] * wage_df2['exper'] + result2.params['tenure'] * wage_df2['tenure'],\n",
    "    'wage_hat_fitted': result2.fittedvalues\n",
    "})\n",
    "df_result2"
   ]
  },
  {
   "cell_type": "markdown",
   "id": "784a1cfe-800b-4157-aa51-a53ab2f57a4b",
   "metadata": {},
   "source": [
    "<h3 style=\"color: blue\">3.3. Cách viết hồi quy không dùng formula</h3>"
   ]
  },
  {
   "cell_type": "code",
   "execution_count": 67,
   "id": "57cf66cb-a692-4fff-88a5-be751d8dc148",
   "metadata": {},
   "outputs": [],
   "source": [
    "import statsmodels.api as sm"
   ]
  },
  {
   "cell_type": "code",
   "execution_count": 69,
   "id": "beed85b1-152d-4d72-b423-593edb8d2b95",
   "metadata": {},
   "outputs": [],
   "source": [
    "dfY = df[[\"wage\"]]\n",
    "dfX = df[[\"educ\", \"exper\", \"tenure\"]]"
   ]
  },
  {
   "cell_type": "code",
   "execution_count": 70,
   "id": "b4b8c566-0144-482f-b6dc-aca50e05b729",
   "metadata": {},
   "outputs": [
    {
     "data": {
      "text/html": [
       "<div>\n",
       "<style scoped>\n",
       "    .dataframe tbody tr th:only-of-type {\n",
       "        vertical-align: middle;\n",
       "    }\n",
       "\n",
       "    .dataframe tbody tr th {\n",
       "        vertical-align: top;\n",
       "    }\n",
       "\n",
       "    .dataframe thead th {\n",
       "        text-align: right;\n",
       "    }\n",
       "</style>\n",
       "<table border=\"1\" class=\"dataframe\">\n",
       "  <thead>\n",
       "    <tr style=\"text-align: right;\">\n",
       "      <th></th>\n",
       "      <th>const</th>\n",
       "      <th>educ</th>\n",
       "      <th>exper</th>\n",
       "      <th>tenure</th>\n",
       "    </tr>\n",
       "  </thead>\n",
       "  <tbody>\n",
       "    <tr>\n",
       "      <th>0</th>\n",
       "      <td>1.0</td>\n",
       "      <td>11</td>\n",
       "      <td>2</td>\n",
       "      <td>0</td>\n",
       "    </tr>\n",
       "    <tr>\n",
       "      <th>1</th>\n",
       "      <td>1.0</td>\n",
       "      <td>12</td>\n",
       "      <td>22</td>\n",
       "      <td>2</td>\n",
       "    </tr>\n",
       "    <tr>\n",
       "      <th>2</th>\n",
       "      <td>1.0</td>\n",
       "      <td>11</td>\n",
       "      <td>2</td>\n",
       "      <td>0</td>\n",
       "    </tr>\n",
       "    <tr>\n",
       "      <th>3</th>\n",
       "      <td>1.0</td>\n",
       "      <td>8</td>\n",
       "      <td>44</td>\n",
       "      <td>28</td>\n",
       "    </tr>\n",
       "    <tr>\n",
       "      <th>4</th>\n",
       "      <td>1.0</td>\n",
       "      <td>12</td>\n",
       "      <td>7</td>\n",
       "      <td>2</td>\n",
       "    </tr>\n",
       "    <tr>\n",
       "      <th>...</th>\n",
       "      <td>...</td>\n",
       "      <td>...</td>\n",
       "      <td>...</td>\n",
       "      <td>...</td>\n",
       "    </tr>\n",
       "    <tr>\n",
       "      <th>521</th>\n",
       "      <td>1.0</td>\n",
       "      <td>16</td>\n",
       "      <td>14</td>\n",
       "      <td>2</td>\n",
       "    </tr>\n",
       "    <tr>\n",
       "      <th>522</th>\n",
       "      <td>1.0</td>\n",
       "      <td>10</td>\n",
       "      <td>2</td>\n",
       "      <td>0</td>\n",
       "    </tr>\n",
       "    <tr>\n",
       "      <th>523</th>\n",
       "      <td>1.0</td>\n",
       "      <td>15</td>\n",
       "      <td>13</td>\n",
       "      <td>18</td>\n",
       "    </tr>\n",
       "    <tr>\n",
       "      <th>524</th>\n",
       "      <td>1.0</td>\n",
       "      <td>16</td>\n",
       "      <td>5</td>\n",
       "      <td>1</td>\n",
       "    </tr>\n",
       "    <tr>\n",
       "      <th>525</th>\n",
       "      <td>1.0</td>\n",
       "      <td>14</td>\n",
       "      <td>5</td>\n",
       "      <td>4</td>\n",
       "    </tr>\n",
       "  </tbody>\n",
       "</table>\n",
       "<p>526 rows × 4 columns</p>\n",
       "</div>"
      ],
      "text/plain": [
       "     const  educ  exper  tenure\n",
       "0      1.0    11      2       0\n",
       "1      1.0    12     22       2\n",
       "2      1.0    11      2       0\n",
       "3      1.0     8     44      28\n",
       "4      1.0    12      7       2\n",
       "..     ...   ...    ...     ...\n",
       "521    1.0    16     14       2\n",
       "522    1.0    10      2       0\n",
       "523    1.0    15     13      18\n",
       "524    1.0    16      5       1\n",
       "525    1.0    14      5       4\n",
       "\n",
       "[526 rows x 4 columns]"
      ]
     },
     "execution_count": 70,
     "metadata": {},
     "output_type": "execute_result"
    }
   ],
   "source": [
    "# Add constant to dfX\n",
    "# Đây là một yêu cầu về mặt cấu trúc để có thể thực hiện ước lượng OLS một cách chính xác.\n",
    "dfX = sm.add_constant(dfX)\n",
    "dfX"
   ]
  },
  {
   "cell_type": "code",
   "execution_count": 71,
   "id": "24f47b91-6c7b-45e9-812f-0d8cedcebac0",
   "metadata": {},
   "outputs": [],
   "source": [
    "#Fitting model\n",
    "model3 = sm.OLS(dfY, dfX)\n",
    "result3 = model3.fit()"
   ]
  },
  {
   "cell_type": "code",
   "execution_count": 72,
   "id": "b9c21a23-4673-40ae-b00a-790e21f950ef",
   "metadata": {},
   "outputs": [
    {
     "data": {
      "text/html": [
       "<table class=\"simpletable\">\n",
       "<caption>OLS Regression Results</caption>\n",
       "<tr>\n",
       "  <th>Dep. Variable:</th>          <td>wage</td>       <th>  R-squared:         </th> <td>   0.306</td>\n",
       "</tr>\n",
       "<tr>\n",
       "  <th>Model:</th>                   <td>OLS</td>       <th>  Adj. R-squared:    </th> <td>   0.302</td>\n",
       "</tr>\n",
       "<tr>\n",
       "  <th>Method:</th>             <td>Least Squares</td>  <th>  F-statistic:       </th> <td>   76.87</td>\n",
       "</tr>\n",
       "<tr>\n",
       "  <th>Date:</th>             <td>Thu, 11 Jan 2024</td> <th>  Prob (F-statistic):</th> <td>3.41e-41</td>\n",
       "</tr>\n",
       "<tr>\n",
       "  <th>Time:</th>                 <td>21:18:40</td>     <th>  Log-Likelihood:    </th> <td> -1336.8</td>\n",
       "</tr>\n",
       "<tr>\n",
       "  <th>No. Observations:</th>      <td>   526</td>      <th>  AIC:               </th> <td>   2682.</td>\n",
       "</tr>\n",
       "<tr>\n",
       "  <th>Df Residuals:</th>          <td>   522</td>      <th>  BIC:               </th> <td>   2699.</td>\n",
       "</tr>\n",
       "<tr>\n",
       "  <th>Df Model:</th>              <td>     3</td>      <th>                     </th>     <td> </td>   \n",
       "</tr>\n",
       "<tr>\n",
       "  <th>Covariance Type:</th>      <td>nonrobust</td>    <th>                     </th>     <td> </td>   \n",
       "</tr>\n",
       "</table>\n",
       "<table class=\"simpletable\">\n",
       "<tr>\n",
       "     <td></td>       <th>coef</th>     <th>std err</th>      <th>t</th>      <th>P>|t|</th>  <th>[0.025</th>    <th>0.975]</th>  \n",
       "</tr>\n",
       "<tr>\n",
       "  <th>const</th>  <td>   -2.8727</td> <td>    0.729</td> <td>   -3.941</td> <td> 0.000</td> <td>   -4.305</td> <td>   -1.441</td>\n",
       "</tr>\n",
       "<tr>\n",
       "  <th>educ</th>   <td>    0.5990</td> <td>    0.051</td> <td>   11.679</td> <td> 0.000</td> <td>    0.498</td> <td>    0.700</td>\n",
       "</tr>\n",
       "<tr>\n",
       "  <th>exper</th>  <td>    0.0223</td> <td>    0.012</td> <td>    1.853</td> <td> 0.064</td> <td>   -0.001</td> <td>    0.046</td>\n",
       "</tr>\n",
       "<tr>\n",
       "  <th>tenure</th> <td>    0.1693</td> <td>    0.022</td> <td>    7.820</td> <td> 0.000</td> <td>    0.127</td> <td>    0.212</td>\n",
       "</tr>\n",
       "</table>\n",
       "<table class=\"simpletable\">\n",
       "<tr>\n",
       "  <th>Omnibus:</th>       <td>179.597</td> <th>  Durbin-Watson:     </th> <td>   1.791</td> \n",
       "</tr>\n",
       "<tr>\n",
       "  <th>Prob(Omnibus):</th> <td> 0.000</td>  <th>  Jarque-Bera (JB):  </th> <td> 650.808</td> \n",
       "</tr>\n",
       "<tr>\n",
       "  <th>Skew:</th>          <td> 1.555</td>  <th>  Prob(JB):          </th> <td>4.77e-142</td>\n",
       "</tr>\n",
       "<tr>\n",
       "  <th>Kurtosis:</th>      <td> 7.475</td>  <th>  Cond. No.          </th> <td>    135.</td> \n",
       "</tr>\n",
       "</table><br/><br/>Notes:<br/>[1] Standard Errors assume that the covariance matrix of the errors is correctly specified."
      ],
      "text/latex": [
       "\\begin{center}\n",
       "\\begin{tabular}{lclc}\n",
       "\\toprule\n",
       "\\textbf{Dep. Variable:}    &       wage       & \\textbf{  R-squared:         } &     0.306   \\\\\n",
       "\\textbf{Model:}            &       OLS        & \\textbf{  Adj. R-squared:    } &     0.302   \\\\\n",
       "\\textbf{Method:}           &  Least Squares   & \\textbf{  F-statistic:       } &     76.87   \\\\\n",
       "\\textbf{Date:}             & Thu, 11 Jan 2024 & \\textbf{  Prob (F-statistic):} &  3.41e-41   \\\\\n",
       "\\textbf{Time:}             &     21:18:40     & \\textbf{  Log-Likelihood:    } &   -1336.8   \\\\\n",
       "\\textbf{No. Observations:} &         526      & \\textbf{  AIC:               } &     2682.   \\\\\n",
       "\\textbf{Df Residuals:}     &         522      & \\textbf{  BIC:               } &     2699.   \\\\\n",
       "\\textbf{Df Model:}         &           3      & \\textbf{                     } &             \\\\\n",
       "\\textbf{Covariance Type:}  &    nonrobust     & \\textbf{                     } &             \\\\\n",
       "\\bottomrule\n",
       "\\end{tabular}\n",
       "\\begin{tabular}{lcccccc}\n",
       "                & \\textbf{coef} & \\textbf{std err} & \\textbf{t} & \\textbf{P$> |$t$|$} & \\textbf{[0.025} & \\textbf{0.975]}  \\\\\n",
       "\\midrule\n",
       "\\textbf{const}  &      -2.8727  &        0.729     &    -3.941  &         0.000        &       -4.305    &       -1.441     \\\\\n",
       "\\textbf{educ}   &       0.5990  &        0.051     &    11.679  &         0.000        &        0.498    &        0.700     \\\\\n",
       "\\textbf{exper}  &       0.0223  &        0.012     &     1.853  &         0.064        &       -0.001    &        0.046     \\\\\n",
       "\\textbf{tenure} &       0.1693  &        0.022     &     7.820  &         0.000        &        0.127    &        0.212     \\\\\n",
       "\\bottomrule\n",
       "\\end{tabular}\n",
       "\\begin{tabular}{lclc}\n",
       "\\textbf{Omnibus:}       & 179.597 & \\textbf{  Durbin-Watson:     } &     1.791  \\\\\n",
       "\\textbf{Prob(Omnibus):} &   0.000 & \\textbf{  Jarque-Bera (JB):  } &   650.808  \\\\\n",
       "\\textbf{Skew:}          &   1.555 & \\textbf{  Prob(JB):          } & 4.77e-142  \\\\\n",
       "\\textbf{Kurtosis:}      &   7.475 & \\textbf{  Cond. No.          } &      135.  \\\\\n",
       "\\bottomrule\n",
       "\\end{tabular}\n",
       "%\\caption{OLS Regression Results}\n",
       "\\end{center}\n",
       "\n",
       "Notes: \\newline\n",
       " [1] Standard Errors assume that the covariance matrix of the errors is correctly specified."
      ],
      "text/plain": [
       "<class 'statsmodels.iolib.summary.Summary'>\n",
       "\"\"\"\n",
       "                            OLS Regression Results                            \n",
       "==============================================================================\n",
       "Dep. Variable:                   wage   R-squared:                       0.306\n",
       "Model:                            OLS   Adj. R-squared:                  0.302\n",
       "Method:                 Least Squares   F-statistic:                     76.87\n",
       "Date:                Thu, 11 Jan 2024   Prob (F-statistic):           3.41e-41\n",
       "Time:                        21:18:40   Log-Likelihood:                -1336.8\n",
       "No. Observations:                 526   AIC:                             2682.\n",
       "Df Residuals:                     522   BIC:                             2699.\n",
       "Df Model:                           3                                         \n",
       "Covariance Type:            nonrobust                                         \n",
       "==============================================================================\n",
       "                 coef    std err          t      P>|t|      [0.025      0.975]\n",
       "------------------------------------------------------------------------------\n",
       "const         -2.8727      0.729     -3.941      0.000      -4.305      -1.441\n",
       "educ           0.5990      0.051     11.679      0.000       0.498       0.700\n",
       "exper          0.0223      0.012      1.853      0.064      -0.001       0.046\n",
       "tenure         0.1693      0.022      7.820      0.000       0.127       0.212\n",
       "==============================================================================\n",
       "Omnibus:                      179.597   Durbin-Watson:                   1.791\n",
       "Prob(Omnibus):                  0.000   Jarque-Bera (JB):              650.808\n",
       "Skew:                           1.555   Prob(JB):                    4.77e-142\n",
       "Kurtosis:                       7.475   Cond. No.                         135.\n",
       "==============================================================================\n",
       "\n",
       "Notes:\n",
       "[1] Standard Errors assume that the covariance matrix of the errors is correctly specified.\n",
       "\"\"\""
      ]
     },
     "execution_count": 72,
     "metadata": {},
     "output_type": "execute_result"
    }
   ],
   "source": [
    "result3.summary()"
   ]
  },
  {
   "cell_type": "code",
   "execution_count": 73,
   "id": "3e120a62-16a2-4951-83cf-091867484b75",
   "metadata": {},
   "outputs": [
    {
     "data": {
      "text/html": [
       "<table class=\"simpletable\">\n",
       "<caption>OLS Regression Results</caption>\n",
       "<tr>\n",
       "  <th>Dep. Variable:</th>          <td>wage</td>       <th>  R-squared:         </th> <td>   0.306</td>\n",
       "</tr>\n",
       "<tr>\n",
       "  <th>Model:</th>                   <td>OLS</td>       <th>  Adj. R-squared:    </th> <td>   0.302</td>\n",
       "</tr>\n",
       "<tr>\n",
       "  <th>Method:</th>             <td>Least Squares</td>  <th>  F-statistic:       </th> <td>   76.87</td>\n",
       "</tr>\n",
       "<tr>\n",
       "  <th>Date:</th>             <td>Thu, 11 Jan 2024</td> <th>  Prob (F-statistic):</th> <td>3.41e-41</td>\n",
       "</tr>\n",
       "<tr>\n",
       "  <th>Time:</th>                 <td>21:19:03</td>     <th>  Log-Likelihood:    </th> <td> -1336.8</td>\n",
       "</tr>\n",
       "<tr>\n",
       "  <th>No. Observations:</th>      <td>   526</td>      <th>  AIC:               </th> <td>   2682.</td>\n",
       "</tr>\n",
       "<tr>\n",
       "  <th>Df Residuals:</th>          <td>   522</td>      <th>  BIC:               </th> <td>   2699.</td>\n",
       "</tr>\n",
       "<tr>\n",
       "  <th>Df Model:</th>              <td>     3</td>      <th>                     </th>     <td> </td>   \n",
       "</tr>\n",
       "<tr>\n",
       "  <th>Covariance Type:</th>      <td>nonrobust</td>    <th>                     </th>     <td> </td>   \n",
       "</tr>\n",
       "</table>\n",
       "<table class=\"simpletable\">\n",
       "<tr>\n",
       "      <td></td>         <th>coef</th>     <th>std err</th>      <th>t</th>      <th>P>|t|</th>  <th>[0.025</th>    <th>0.975]</th>  \n",
       "</tr>\n",
       "<tr>\n",
       "  <th>Intercept</th> <td>   -2.8727</td> <td>    0.729</td> <td>   -3.941</td> <td> 0.000</td> <td>   -4.305</td> <td>   -1.441</td>\n",
       "</tr>\n",
       "<tr>\n",
       "  <th>educ</th>      <td>    0.5990</td> <td>    0.051</td> <td>   11.679</td> <td> 0.000</td> <td>    0.498</td> <td>    0.700</td>\n",
       "</tr>\n",
       "<tr>\n",
       "  <th>exper</th>     <td>    0.0223</td> <td>    0.012</td> <td>    1.853</td> <td> 0.064</td> <td>   -0.001</td> <td>    0.046</td>\n",
       "</tr>\n",
       "<tr>\n",
       "  <th>tenure</th>    <td>    0.1693</td> <td>    0.022</td> <td>    7.820</td> <td> 0.000</td> <td>    0.127</td> <td>    0.212</td>\n",
       "</tr>\n",
       "</table>\n",
       "<table class=\"simpletable\">\n",
       "<tr>\n",
       "  <th>Omnibus:</th>       <td>179.597</td> <th>  Durbin-Watson:     </th> <td>   1.791</td> \n",
       "</tr>\n",
       "<tr>\n",
       "  <th>Prob(Omnibus):</th> <td> 0.000</td>  <th>  Jarque-Bera (JB):  </th> <td> 650.808</td> \n",
       "</tr>\n",
       "<tr>\n",
       "  <th>Skew:</th>          <td> 1.555</td>  <th>  Prob(JB):          </th> <td>4.77e-142</td>\n",
       "</tr>\n",
       "<tr>\n",
       "  <th>Kurtosis:</th>      <td> 7.475</td>  <th>  Cond. No.          </th> <td>    135.</td> \n",
       "</tr>\n",
       "</table><br/><br/>Notes:<br/>[1] Standard Errors assume that the covariance matrix of the errors is correctly specified."
      ],
      "text/latex": [
       "\\begin{center}\n",
       "\\begin{tabular}{lclc}\n",
       "\\toprule\n",
       "\\textbf{Dep. Variable:}    &       wage       & \\textbf{  R-squared:         } &     0.306   \\\\\n",
       "\\textbf{Model:}            &       OLS        & \\textbf{  Adj. R-squared:    } &     0.302   \\\\\n",
       "\\textbf{Method:}           &  Least Squares   & \\textbf{  F-statistic:       } &     76.87   \\\\\n",
       "\\textbf{Date:}             & Thu, 11 Jan 2024 & \\textbf{  Prob (F-statistic):} &  3.41e-41   \\\\\n",
       "\\textbf{Time:}             &     21:19:03     & \\textbf{  Log-Likelihood:    } &   -1336.8   \\\\\n",
       "\\textbf{No. Observations:} &         526      & \\textbf{  AIC:               } &     2682.   \\\\\n",
       "\\textbf{Df Residuals:}     &         522      & \\textbf{  BIC:               } &     2699.   \\\\\n",
       "\\textbf{Df Model:}         &           3      & \\textbf{                     } &             \\\\\n",
       "\\textbf{Covariance Type:}  &    nonrobust     & \\textbf{                     } &             \\\\\n",
       "\\bottomrule\n",
       "\\end{tabular}\n",
       "\\begin{tabular}{lcccccc}\n",
       "                   & \\textbf{coef} & \\textbf{std err} & \\textbf{t} & \\textbf{P$> |$t$|$} & \\textbf{[0.025} & \\textbf{0.975]}  \\\\\n",
       "\\midrule\n",
       "\\textbf{Intercept} &      -2.8727  &        0.729     &    -3.941  &         0.000        &       -4.305    &       -1.441     \\\\\n",
       "\\textbf{educ}      &       0.5990  &        0.051     &    11.679  &         0.000        &        0.498    &        0.700     \\\\\n",
       "\\textbf{exper}     &       0.0223  &        0.012     &     1.853  &         0.064        &       -0.001    &        0.046     \\\\\n",
       "\\textbf{tenure}    &       0.1693  &        0.022     &     7.820  &         0.000        &        0.127    &        0.212     \\\\\n",
       "\\bottomrule\n",
       "\\end{tabular}\n",
       "\\begin{tabular}{lclc}\n",
       "\\textbf{Omnibus:}       & 179.597 & \\textbf{  Durbin-Watson:     } &     1.791  \\\\\n",
       "\\textbf{Prob(Omnibus):} &   0.000 & \\textbf{  Jarque-Bera (JB):  } &   650.808  \\\\\n",
       "\\textbf{Skew:}          &   1.555 & \\textbf{  Prob(JB):          } & 4.77e-142  \\\\\n",
       "\\textbf{Kurtosis:}      &   7.475 & \\textbf{  Cond. No.          } &      135.  \\\\\n",
       "\\bottomrule\n",
       "\\end{tabular}\n",
       "%\\caption{OLS Regression Results}\n",
       "\\end{center}\n",
       "\n",
       "Notes: \\newline\n",
       " [1] Standard Errors assume that the covariance matrix of the errors is correctly specified."
      ],
      "text/plain": [
       "<class 'statsmodels.iolib.summary.Summary'>\n",
       "\"\"\"\n",
       "                            OLS Regression Results                            \n",
       "==============================================================================\n",
       "Dep. Variable:                   wage   R-squared:                       0.306\n",
       "Model:                            OLS   Adj. R-squared:                  0.302\n",
       "Method:                 Least Squares   F-statistic:                     76.87\n",
       "Date:                Thu, 11 Jan 2024   Prob (F-statistic):           3.41e-41\n",
       "Time:                        21:19:03   Log-Likelihood:                -1336.8\n",
       "No. Observations:                 526   AIC:                             2682.\n",
       "Df Residuals:                     522   BIC:                             2699.\n",
       "Df Model:                           3                                         \n",
       "Covariance Type:            nonrobust                                         \n",
       "==============================================================================\n",
       "                 coef    std err          t      P>|t|      [0.025      0.975]\n",
       "------------------------------------------------------------------------------\n",
       "Intercept     -2.8727      0.729     -3.941      0.000      -4.305      -1.441\n",
       "educ           0.5990      0.051     11.679      0.000       0.498       0.700\n",
       "exper          0.0223      0.012      1.853      0.064      -0.001       0.046\n",
       "tenure         0.1693      0.022      7.820      0.000       0.127       0.212\n",
       "==============================================================================\n",
       "Omnibus:                      179.597   Durbin-Watson:                   1.791\n",
       "Prob(Omnibus):                  0.000   Jarque-Bera (JB):              650.808\n",
       "Skew:                           1.555   Prob(JB):                    4.77e-142\n",
       "Kurtosis:                       7.475   Cond. No.                         135.\n",
       "==============================================================================\n",
       "\n",
       "Notes:\n",
       "[1] Standard Errors assume that the covariance matrix of the errors is correctly specified.\n",
       "\"\"\""
      ]
     },
     "execution_count": 73,
     "metadata": {},
     "output_type": "execute_result"
    }
   ],
   "source": [
    "result2.summary()"
   ]
  },
  {
   "cell_type": "markdown",
   "id": "c30ef5dd-7bfa-4d1b-90de-d7fe345cf2dc",
   "metadata": {},
   "source": [
    "<h2 style=\"color: blue\">4. Tiêu chí đánh giá Error cho mô hình</h2>"
   ]
  },
  {
   "cell_type": "markdown",
   "id": "142d25ea-517b-4d24-a155-d9318dad6256",
   "metadata": {
    "jp-MarkdownHeadingCollapsed": true
   },
   "source": [
    "<h3 style=\"color: blue\">4.1. Mean Absolute Error (MAE)</h3>\n",
    "$$\n",
    "MAE = \\frac{1}{n}\\Large\\sum_{i=1}^n\\lvert y_i-\\hat{y}_i \\rvert\n",
    "$$\n",
    "\n",
    "Giá trị MAE càng nhỏ thì mô hình càng tốt"
   ]
  },
  {
   "attachments": {},
   "cell_type": "markdown",
   "id": "312af53a-7e24-4dc1-a343-9b45410aac3d",
   "metadata": {
    "jp-MarkdownHeadingCollapsed": true
   },
   "source": [
    "<h3 style=\"color: blue\">4.2. Mean Absolute Percentage Error (MAPE)</h3>\n",
    "$$\n",
    "MAPE = \\frac{1}{n}\\Large\\sum_{i=1}^{n}\\frac{\\lvert y_i-\\hat{y}_i \\rvert}{y_i}\\times 100\n",
    "$$\n",
    "\n",
    "<table border=\"1\" cellpadding=\"1\" cellspacing=\"1\" style=\"font-size: 20px;width:700px\">\n",
    "\t<thead>\n",
    "        <th>\n",
    "\t\t\t<td><strong>MAPE(%)</strong></td>\n",
    "\t\t\t<td><strong>Độ chính xác</strong></td>\n",
    "\t\t</th>\n",
    "    </thead>\n",
    "    <tbody>\n",
    "\t\t<tr>\n",
    "\t\t\t<td>$MAPE<10\\%$</td>\n",
    "\t\t\t<td>Độ chính xác cao (Excellent)</td>\n",
    "\t\t</tr>\n",
    "\t\t<tr>\n",
    "\t\t\t<td>$10\\% \\le MAPE < 20\\%$</td>\n",
    "\t\t\t<td>Dự báo tốt (Good)</td>\n",
    "\t\t</tr>\n",
    "\t\t<tr>\n",
    "\t\t\t<td>$20\\% \\le MAPE < 50\\%$</td>\n",
    "\t\t\t<td>Dự báo hợp lí (Reasonable)</td>\n",
    "\t\t</tr>\n",
    "\t\t<tr>\n",
    "\t\t\t<td>$MAPE \\ge 50\\%$</td>\n",
    "\t\t\t<td>Dự báo không chính xác (Inaccurate)</td>\n",
    "\t\t</tr>\t\t\n",
    "\t</tbody>\n",
    "</table>\n",
    "\n",
    "Giá trị MAPE càng nhỏ thì mô hình càng tốt"
   ]
  },
  {
   "cell_type": "markdown",
   "id": "cb406c36-dcd3-4c11-9046-a7f8e6a4fe26",
   "metadata": {
    "jp-MarkdownHeadingCollapsed": true
   },
   "source": [
    "<h3 style=\"color: blue\">4.3. Mean Squared Error (MSE)</h3>\n",
    "$$\n",
    "MSE = \\frac{1}{n}\\Large\\sum_{i=1}^{n}(y_i-\\hat{y}_i)^2\n",
    "$$\n",
    "\n",
    "Giá trị RMSE càng nhỏ thì mô hình càng tốt"
   ]
  },
  {
   "cell_type": "markdown",
   "id": "8973583b-e67e-47a0-b9a7-83caf5c2419c",
   "metadata": {},
   "source": [
    "<h3 style=\"color: blue\">4.4. Root Mean Squared Error (RMSE)</h3>\n",
    "$$\n",
    "RMSE = \\sqrt{\\frac{1}{n}\\Large\\sum_{i=1}^{n}(y_i-\\hat{y}_i)^2}\n",
    "$$\n",
    "\n",
    "Giá trị RMSE càng nhỏ thì mô hình càng tốt"
   ]
  },
  {
   "cell_type": "markdown",
   "id": "a06bf960-f9c4-4d4e-a8f4-086541f0cc6a",
   "metadata": {},
   "source": [
    "<h3 style=\"color: blue\">4.5. Define các hàm đánh giá</h3>"
   ]
  },
  {
   "cell_type": "code",
   "execution_count": 74,
   "id": "5557cea3-9251-4327-8ffb-346f94465d19",
   "metadata": {},
   "outputs": [],
   "source": [
    "import numpy as np"
   ]
  },
  {
   "cell_type": "code",
   "execution_count": 75,
   "id": "d5780f7c-0998-430d-af0f-7b382233cc6d",
   "metadata": {},
   "outputs": [],
   "source": [
    "# Define error evaluation measurement functions\n",
    "def _mae(y, y_hat):\n",
    "    y = np.asanyarray(y)\n",
    "    y_hat = np.asanyarray(y_hat)\n",
    "    return np.mean(np.abs(y - y_hat))\n",
    "\n",
    "def _mape(y, y_hat):\n",
    "    y = np.asanyarray(y)\n",
    "    y_hat = np.asanyarray(y_hat)\n",
    "    return np.mean(np.abs(y - y_hat)/y) * 100 # Result is in percentage\n",
    "\n",
    "def _mse(y, y_hat):\n",
    "    y = np.asanyarray(y)\n",
    "    y_hat = np.asanyarray(y_hat)\n",
    "    return np.mean(np.square(y - y_hat))\n",
    "\n",
    "def _rmse(y, y_hat):\n",
    "    # y = np.asanyarray(y)\n",
    "    # y_hat = np.asanyarray(y_hat)\n",
    "    # return np.sqrt(np.mean(np.square(y - y_hat)))\n",
    "    return np.sqrt(_mse(y, y_hat))\n",
    "    "
   ]
  },
  {
   "cell_type": "code",
   "execution_count": 76,
   "id": "566a2252-def7-45a2-bba5-c5b1440e7666",
   "metadata": {},
   "outputs": [
    {
     "data": {
      "text/plain": [
       "0      3.100000\n",
       "1      3.240000\n",
       "2      3.000000\n",
       "3      6.000000\n",
       "4      5.300000\n",
       "5      8.750000\n",
       "6     11.250000\n",
       "7      5.000000\n",
       "8      3.600000\n",
       "9     18.180000\n",
       "10     6.250000\n",
       "11     8.130000\n",
       "12     8.770000\n",
       "13     5.500000\n",
       "14    22.200001\n",
       "15    17.330000\n",
       "16     7.500000\n",
       "17    10.630000\n",
       "18     3.600000\n",
       "19     4.500000\n",
       "Name: wage, dtype: float64"
      ]
     },
     "execution_count": 76,
     "metadata": {},
     "output_type": "execute_result"
    }
   ],
   "source": [
    "actual = df['wage'] # y\n",
    "actual[0:20]"
   ]
  },
  {
   "cell_type": "code",
   "execution_count": 77,
   "id": "a609961b-5da6-4f7e-b525-25d5bb84f279",
   "metadata": {},
   "outputs": [
    {
     "data": {
      "text/plain": [
       "array([ 3.76055994,  5.1448527 ,  3.76055994,  7.64144679,  4.80975991,\n",
       "        8.26591112,  9.42860972,  4.93434952,  5.57274808, 11.3557824 ,\n",
       "        7.22795969,  4.9808296 ,  4.64993876,  5.22476327,  7.54640084,\n",
       "        7.02345951,  4.53824117,  6.96392986,  4.60525973,  6.13468058])"
      ]
     },
     "execution_count": 77,
     "metadata": {},
     "output_type": "execute_result"
    }
   ],
   "source": [
    "pred = result2.predict() # y_hat\n",
    "pred[0:20]"
   ]
  },
  {
   "cell_type": "code",
   "execution_count": 78,
   "id": "10c4cee4-3a28-4fb1-b70c-e83f62b7599f",
   "metadata": {},
   "outputs": [
    {
     "data": {
      "text/plain": [
       "2.1667688810837755"
      ]
     },
     "execution_count": 78,
     "metadata": {},
     "output_type": "execute_result"
    }
   ],
   "source": [
    "_mae(actual, pred)"
   ]
  },
  {
   "cell_type": "code",
   "execution_count": 79,
   "id": "51348604-3116-446e-963a-67961e4c1914",
   "metadata": {},
   "outputs": [
    {
     "data": {
      "text/plain": [
       "43.66156210699"
      ]
     },
     "execution_count": 79,
     "metadata": {},
     "output_type": "execute_result"
    }
   ],
   "source": [
    "_mape(actual, pred) # result is in percentage"
   ]
  },
  {
   "cell_type": "code",
   "execution_count": 80,
   "id": "280bfad6-f52e-4a77-a5db-6ee12c15392a",
   "metadata": {},
   "outputs": [
    {
     "data": {
      "text/plain": [
       "9.441640104256482"
      ]
     },
     "execution_count": 80,
     "metadata": {},
     "output_type": "execute_result"
    }
   ],
   "source": [
    "_mse(actual, pred)"
   ]
  },
  {
   "cell_type": "code",
   "execution_count": 81,
   "id": "fe21abc4-0ef0-4b1a-927b-4ccc2acbdc96",
   "metadata": {},
   "outputs": [
    {
     "data": {
      "text/plain": [
       "3.0727251917892824"
      ]
     },
     "execution_count": 81,
     "metadata": {},
     "output_type": "execute_result"
    }
   ],
   "source": [
    "_rmse(actual, pred)"
   ]
  },
  {
   "cell_type": "markdown",
   "id": "0ca8eeca-ec73-4092-9a7e-a716b229b84a",
   "metadata": {},
   "source": [
    "<h3 style=\"color: blue\">4.6. Sử dụng các hàm đánh giá Error của thư viện Statsmodels</h3>\n"
   ]
  },
  {
   "cell_type": "markdown",
   "id": "4c91d4ed-c923-4a81-b41e-792ec22aa16d",
   "metadata": {},
   "source": [
    "Tham khảo: https://www.statsmodels.org/dev/tools.html#measure-for-fit-performance-eval-measures"
   ]
  },
  {
   "cell_type": "code",
   "execution_count": 82,
   "id": "3bf5ebb8-0712-4edb-9196-6219403ec651",
   "metadata": {},
   "outputs": [],
   "source": [
    "from statsmodels.tools import eval_measures"
   ]
  },
  {
   "cell_type": "code",
   "execution_count": 83,
   "id": "c5e3a568-a2b9-4d93-9301-65ee2f7a8ebc",
   "metadata": {},
   "outputs": [
    {
     "data": {
      "text/plain": [
       "2.1667688810837755"
      ]
     },
     "execution_count": 83,
     "metadata": {},
     "output_type": "execute_result"
    }
   ],
   "source": [
    "eval_measures.meanabs(actual, pred)"
   ]
  },
  {
   "cell_type": "code",
   "execution_count": 84,
   "id": "1a601dac-893d-4802-8349-41d4c64b0937",
   "metadata": {},
   "outputs": [
    {
     "data": {
      "text/plain": [
       "9.441640104256482"
      ]
     },
     "execution_count": 84,
     "metadata": {},
     "output_type": "execute_result"
    }
   ],
   "source": [
    "eval_measures.mse(actual, pred)"
   ]
  },
  {
   "cell_type": "code",
   "execution_count": 85,
   "id": "5403da54-8946-44d5-964b-fed1ee2e0bed",
   "metadata": {},
   "outputs": [
    {
     "data": {
      "text/plain": [
       "3.0727251917892824"
      ]
     },
     "execution_count": 85,
     "metadata": {},
     "output_type": "execute_result"
    }
   ],
   "source": [
    "eval_measures.rmse(actual, pred)"
   ]
  }
 ],
 "metadata": {
  "kernelspec": {
   "display_name": "Python 3 (ipykernel)",
   "language": "python",
   "name": "python3"
  },
  "language_info": {
   "codemirror_mode": {
    "name": "ipython",
    "version": 3
   },
   "file_extension": ".py",
   "mimetype": "text/x-python",
   "name": "python",
   "nbconvert_exporter": "python",
   "pygments_lexer": "ipython3",
   "version": "3.9.13"
  }
 },
 "nbformat": 4,
 "nbformat_minor": 5
}
