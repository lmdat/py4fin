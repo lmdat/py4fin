{
 "cells": [
  {
   "cell_type": "markdown",
   "id": "6574ff9f-7572-4058-8d83-cad9a8d48b6e",
   "metadata": {},
   "source": [
    "<h1 align=\"center\" class=\"jp-toc-ignore\" style=\"color: LightSeaGreen\">Coder Mê Tài Chính</h1>\n",
    "\n",
    "---\n",
    "<table width=\"100%\" style=\"border:0px;\">\n",
    "    <tr style=\"font-size: 14pt\">\n",
    "        <td><b>Evangelist:</b> Lê Minh Đạt</td>\n",
    "        <td><b>Email:</b> <a href=\"mailto:sirminhdat@gmail.com\">sirminhdat@gmail.com</a></td>\n",
    "        <td><b>Zalo:</b> 0919 564 515</td>\n",
    "    </tr>\n",
    "</table>"
   ]
  },
  {
   "cell_type": "markdown",
   "id": "71317ad1-83d0-41e9-883f-e3375374eac6",
   "metadata": {},
   "source": [
    "<center><h1 class=\"jp-toc-ignore\"><b>Python For Finance (Py4Fin)</b></h1></center>"
   ]
  },
  {
   "cell_type": "markdown",
   "id": "1f91e338-ab2b-47ba-b18c-705fcfeacdad",
   "metadata": {},
   "source": [
    "<center>\n",
    "    <h2 style=\"margin-bottom:0px;\" class=\"jp-toc-ignore\">BÀI 7</h2>\n",
    "    <h1 style=\"color: Crimson; margin-top:10px;\">Các Cách Tính Return Trong Tài Chính</h1>\n",
    "</center>\n",
    "\n",
    "**Nội dung:**\n",
    "1. Cumulative Return\n",
    "   - Holding Period Return (HPR)\n",
    "   - Time-Weighted Rate of Return (TWR)\n",
    "2. Sự khác nhau giữa prod() và cumprod()\n",
    "3. Tại sao phải cộng 1 và trừ 1 khi tính cumulative return\n",
    "4. Annualized Return\n",
    "   - Nếu biết tỷ suất lợi nhuận hàng năm trong suốt thời gian đầu tư\n",
    "   - Nếu biết cumulative return\n",
    "   - Nếu biết giá trị ban đầu và cuối cùng của khoản đầu tư\n",
    "   - So sánh các khoản đầu tư\n",
    "5. Average Return\n",
    "\n",
    "---\n"
   ]
  },
  {
   "cell_type": "code",
   "execution_count": 31,
   "id": "2761616d-6f87-44d6-996a-ad43d70d598d",
   "metadata": {},
   "outputs": [],
   "source": [
    "import pandas as pd\n",
    "import numpy as np"
   ]
  },
  {
   "cell_type": "markdown",
   "id": "25d022bb-ffaa-43a5-b624-69f0257e117f",
   "metadata": {},
   "source": [
    "<h2 style=\"color: blue\">1. Cumulative Return</h2>"
   ]
  },
  {
   "cell_type": "markdown",
   "id": "8859849e-f13a-41c0-9c8b-85ad867aac15",
   "metadata": {},
   "source": [
    "<h3 style=\"color: blue\">1.1. Holding Period Return (HPR)</h3>\n",
    "\n",
    "Holding Period Return cho biết tác động của việc thay đổi giá đối với giá trị khoản đầu tư kể từ thời điểm nó được mua. Hay nói cách khác, là tổng phần trăm mà khoản đầu tư đã thu được (gain) hoặc bị mất (loss) theo thời gian, không phụ thuộc vào khoảng thời gian liên quan."
   ]
  },
  {
   "cell_type": "markdown",
   "id": "93e4678b-72cd-4a6d-bffb-9ff0ca02e3ad",
   "metadata": {},
   "source": [
    "$$\n",
    "\\large HPR = \\frac{P_{current} - P_{original}}{P_{original}} \\times 100 = \\biggl(\\frac{P_{current}}{P_{original}} - 1\\biggr) \\times 100\n",
    "$$"
   ]
  },
  {
   "cell_type": "markdown",
   "id": "d17287dd-3643-427c-b6a3-8af8bd050d8d",
   "metadata": {},
   "source": [
    "$$\n",
    "\\large HPR = ln\\biggl(\\frac{P_{current}}{P_{original}}\\biggr) \\times 100\n",
    "$$"
   ]
  },
  {
   "cell_type": "code",
   "execution_count": 32,
   "id": "691253ae-c771-4777-bce2-7490d4b70f7d",
   "metadata": {},
   "outputs": [
    {
     "data": {
      "text/html": [
       "<div>\n",
       "<style scoped>\n",
       "    .dataframe tbody tr th:only-of-type {\n",
       "        vertical-align: middle;\n",
       "    }\n",
       "\n",
       "    .dataframe tbody tr th {\n",
       "        vertical-align: top;\n",
       "    }\n",
       "\n",
       "    .dataframe thead th {\n",
       "        text-align: right;\n",
       "    }\n",
       "</style>\n",
       "<table border=\"1\" class=\"dataframe\">\n",
       "  <thead>\n",
       "    <tr style=\"text-align: right;\">\n",
       "      <th></th>\n",
       "      <th>date</th>\n",
       "      <th>close</th>\n",
       "      <th>open</th>\n",
       "      <th>high</th>\n",
       "      <th>low</th>\n",
       "    </tr>\n",
       "  </thead>\n",
       "  <tbody>\n",
       "    <tr>\n",
       "      <th>0</th>\n",
       "      <td>16/01/2024</td>\n",
       "      <td>95100.0</td>\n",
       "      <td>95400.0</td>\n",
       "      <td>102000.0</td>\n",
       "      <td>94400.0</td>\n",
       "    </tr>\n",
       "    <tr>\n",
       "      <th>1</th>\n",
       "      <td>15/01/2024</td>\n",
       "      <td>95400.0</td>\n",
       "      <td>95000.0</td>\n",
       "      <td>95900.0</td>\n",
       "      <td>94900.0</td>\n",
       "    </tr>\n",
       "    <tr>\n",
       "      <th>2</th>\n",
       "      <td>12/01/2024</td>\n",
       "      <td>94700.0</td>\n",
       "      <td>94800.0</td>\n",
       "      <td>95600.0</td>\n",
       "      <td>94100.0</td>\n",
       "    </tr>\n",
       "    <tr>\n",
       "      <th>3</th>\n",
       "      <td>11/01/2024</td>\n",
       "      <td>95000.0</td>\n",
       "      <td>94700.0</td>\n",
       "      <td>95400.0</td>\n",
       "      <td>94700.0</td>\n",
       "    </tr>\n",
       "    <tr>\n",
       "      <th>4</th>\n",
       "      <td>10/01/2024</td>\n",
       "      <td>94700.0</td>\n",
       "      <td>96700.0</td>\n",
       "      <td>96900.0</td>\n",
       "      <td>94500.0</td>\n",
       "    </tr>\n",
       "    <tr>\n",
       "      <th>...</th>\n",
       "      <td>...</td>\n",
       "      <td>...</td>\n",
       "      <td>...</td>\n",
       "      <td>...</td>\n",
       "      <td>...</td>\n",
       "    </tr>\n",
       "    <tr>\n",
       "      <th>2253</th>\n",
       "      <td>09/01/2015</td>\n",
       "      <td>12072.7</td>\n",
       "      <td>11972.7</td>\n",
       "      <td>12122.7</td>\n",
       "      <td>11972.7</td>\n",
       "    </tr>\n",
       "    <tr>\n",
       "      <th>2254</th>\n",
       "      <td>08/01/2015</td>\n",
       "      <td>11972.7</td>\n",
       "      <td>12072.7</td>\n",
       "      <td>12097.7</td>\n",
       "      <td>11947.7</td>\n",
       "    </tr>\n",
       "    <tr>\n",
       "      <th>2255</th>\n",
       "      <td>07/01/2015</td>\n",
       "      <td>12097.7</td>\n",
       "      <td>12022.7</td>\n",
       "      <td>12272.6</td>\n",
       "      <td>12022.7</td>\n",
       "    </tr>\n",
       "    <tr>\n",
       "      <th>2256</th>\n",
       "      <td>06/01/2015</td>\n",
       "      <td>12022.7</td>\n",
       "      <td>11872.7</td>\n",
       "      <td>12022.7</td>\n",
       "      <td>11822.7</td>\n",
       "    </tr>\n",
       "    <tr>\n",
       "      <th>2257</th>\n",
       "      <td>05/01/2015</td>\n",
       "      <td>11947.7</td>\n",
       "      <td>11997.7</td>\n",
       "      <td>12047.7</td>\n",
       "      <td>11897.7</td>\n",
       "    </tr>\n",
       "  </tbody>\n",
       "</table>\n",
       "<p>2258 rows × 5 columns</p>\n",
       "</div>"
      ],
      "text/plain": [
       "            date    close     open      high      low\n",
       "0     16/01/2024  95100.0  95400.0  102000.0  94400.0\n",
       "1     15/01/2024  95400.0  95000.0   95900.0  94900.0\n",
       "2     12/01/2024  94700.0  94800.0   95600.0  94100.0\n",
       "3     11/01/2024  95000.0  94700.0   95400.0  94700.0\n",
       "4     10/01/2024  94700.0  96700.0   96900.0  94500.0\n",
       "...          ...      ...      ...       ...      ...\n",
       "2253  09/01/2015  12072.7  11972.7   12122.7  11972.7\n",
       "2254  08/01/2015  11972.7  12072.7   12097.7  11947.7\n",
       "2255  07/01/2015  12097.7  12022.7   12272.6  12022.7\n",
       "2256  06/01/2015  12022.7  11872.7   12022.7  11822.7\n",
       "2257  05/01/2015  11947.7  11997.7   12047.7  11897.7\n",
       "\n",
       "[2258 rows x 5 columns]"
      ]
     },
     "execution_count": 32,
     "metadata": {},
     "output_type": "execute_result"
    }
   ],
   "source": [
    "df = pd.read_csv(\"data/stock/FPT.csv\")\n",
    "df"
   ]
  },
  {
   "cell_type": "code",
   "execution_count": 33,
   "id": "cbde42f4-f0d8-4d2a-992e-6eb0e1e03bb1",
   "metadata": {},
   "outputs": [
    {
     "data": {
      "text/html": [
       "<div>\n",
       "<style scoped>\n",
       "    .dataframe tbody tr th:only-of-type {\n",
       "        vertical-align: middle;\n",
       "    }\n",
       "\n",
       "    .dataframe tbody tr th {\n",
       "        vertical-align: top;\n",
       "    }\n",
       "\n",
       "    .dataframe thead th {\n",
       "        text-align: right;\n",
       "    }\n",
       "</style>\n",
       "<table border=\"1\" class=\"dataframe\">\n",
       "  <thead>\n",
       "    <tr style=\"text-align: right;\">\n",
       "      <th></th>\n",
       "      <th>close</th>\n",
       "      <th>open</th>\n",
       "      <th>high</th>\n",
       "      <th>low</th>\n",
       "    </tr>\n",
       "    <tr>\n",
       "      <th>date</th>\n",
       "      <th></th>\n",
       "      <th></th>\n",
       "      <th></th>\n",
       "      <th></th>\n",
       "    </tr>\n",
       "  </thead>\n",
       "  <tbody>\n",
       "    <tr>\n",
       "      <th>2015-01-05</th>\n",
       "      <td>11947.7</td>\n",
       "      <td>11997.7</td>\n",
       "      <td>12047.7</td>\n",
       "      <td>11897.7</td>\n",
       "    </tr>\n",
       "    <tr>\n",
       "      <th>2015-01-06</th>\n",
       "      <td>12022.7</td>\n",
       "      <td>11872.7</td>\n",
       "      <td>12022.7</td>\n",
       "      <td>11822.7</td>\n",
       "    </tr>\n",
       "    <tr>\n",
       "      <th>2015-01-07</th>\n",
       "      <td>12097.7</td>\n",
       "      <td>12022.7</td>\n",
       "      <td>12272.6</td>\n",
       "      <td>12022.7</td>\n",
       "    </tr>\n",
       "    <tr>\n",
       "      <th>2015-01-08</th>\n",
       "      <td>11972.7</td>\n",
       "      <td>12072.7</td>\n",
       "      <td>12097.7</td>\n",
       "      <td>11947.7</td>\n",
       "    </tr>\n",
       "    <tr>\n",
       "      <th>2015-01-09</th>\n",
       "      <td>12072.7</td>\n",
       "      <td>11972.7</td>\n",
       "      <td>12122.7</td>\n",
       "      <td>11972.7</td>\n",
       "    </tr>\n",
       "    <tr>\n",
       "      <th>...</th>\n",
       "      <td>...</td>\n",
       "      <td>...</td>\n",
       "      <td>...</td>\n",
       "      <td>...</td>\n",
       "    </tr>\n",
       "    <tr>\n",
       "      <th>2024-01-10</th>\n",
       "      <td>94700.0</td>\n",
       "      <td>96700.0</td>\n",
       "      <td>96900.0</td>\n",
       "      <td>94500.0</td>\n",
       "    </tr>\n",
       "    <tr>\n",
       "      <th>2024-01-11</th>\n",
       "      <td>95000.0</td>\n",
       "      <td>94700.0</td>\n",
       "      <td>95400.0</td>\n",
       "      <td>94700.0</td>\n",
       "    </tr>\n",
       "    <tr>\n",
       "      <th>2024-01-12</th>\n",
       "      <td>94700.0</td>\n",
       "      <td>94800.0</td>\n",
       "      <td>95600.0</td>\n",
       "      <td>94100.0</td>\n",
       "    </tr>\n",
       "    <tr>\n",
       "      <th>2024-01-15</th>\n",
       "      <td>95400.0</td>\n",
       "      <td>95000.0</td>\n",
       "      <td>95900.0</td>\n",
       "      <td>94900.0</td>\n",
       "    </tr>\n",
       "    <tr>\n",
       "      <th>2024-01-16</th>\n",
       "      <td>95100.0</td>\n",
       "      <td>95400.0</td>\n",
       "      <td>102000.0</td>\n",
       "      <td>94400.0</td>\n",
       "    </tr>\n",
       "  </tbody>\n",
       "</table>\n",
       "<p>2258 rows × 4 columns</p>\n",
       "</div>"
      ],
      "text/plain": [
       "              close     open      high      low\n",
       "date                                           \n",
       "2015-01-05  11947.7  11997.7   12047.7  11897.7\n",
       "2015-01-06  12022.7  11872.7   12022.7  11822.7\n",
       "2015-01-07  12097.7  12022.7   12272.6  12022.7\n",
       "2015-01-08  11972.7  12072.7   12097.7  11947.7\n",
       "2015-01-09  12072.7  11972.7   12122.7  11972.7\n",
       "...             ...      ...       ...      ...\n",
       "2024-01-10  94700.0  96700.0   96900.0  94500.0\n",
       "2024-01-11  95000.0  94700.0   95400.0  94700.0\n",
       "2024-01-12  94700.0  94800.0   95600.0  94100.0\n",
       "2024-01-15  95400.0  95000.0   95900.0  94900.0\n",
       "2024-01-16  95100.0  95400.0  102000.0  94400.0\n",
       "\n",
       "[2258 rows x 4 columns]"
      ]
     },
     "execution_count": 33,
     "metadata": {},
     "output_type": "execute_result"
    }
   ],
   "source": [
    "df['date'] = pd.to_datetime(df['date'], dayfirst=True) # format=\"%d/%m/%Y\"\n",
    "df.set_index('date', inplace=True)\n",
    "df.sort_index(inplace=True)\n",
    "df"
   ]
  },
  {
   "cell_type": "markdown",
   "id": "76054c61-9986-482c-ab71-41749cd63791",
   "metadata": {},
   "source": [
    "**Ví dụ:**\n",
    "\n",
    "Mua cổ phiếu FPT và nắm giữ từ ngày 04.01.2022. Hỏi, đến ngày 02.01.2024 thì khoản đầu tư này mang lại lợi nhuận bao nhiêu?"
   ]
  },
  {
   "cell_type": "code",
   "execution_count": 34,
   "id": "b5386c77-f23d-432f-a76f-f084c137ec53",
   "metadata": {},
   "outputs": [
    {
     "data": {
      "text/html": [
       "<div>\n",
       "<style scoped>\n",
       "    .dataframe tbody tr th:only-of-type {\n",
       "        vertical-align: middle;\n",
       "    }\n",
       "\n",
       "    .dataframe tbody tr th {\n",
       "        vertical-align: top;\n",
       "    }\n",
       "\n",
       "    .dataframe thead th {\n",
       "        text-align: right;\n",
       "    }\n",
       "</style>\n",
       "<table border=\"1\" class=\"dataframe\">\n",
       "  <thead>\n",
       "    <tr style=\"text-align: right;\">\n",
       "      <th></th>\n",
       "      <th>close</th>\n",
       "    </tr>\n",
       "    <tr>\n",
       "      <th>date</th>\n",
       "      <th></th>\n",
       "    </tr>\n",
       "  </thead>\n",
       "  <tbody>\n",
       "    <tr>\n",
       "      <th>2022-01-04</th>\n",
       "      <td>77021.0</td>\n",
       "    </tr>\n",
       "    <tr>\n",
       "      <th>2022-01-05</th>\n",
       "      <td>77103.0</td>\n",
       "    </tr>\n",
       "    <tr>\n",
       "      <th>2022-01-06</th>\n",
       "      <td>77021.0</td>\n",
       "    </tr>\n",
       "    <tr>\n",
       "      <th>2022-01-07</th>\n",
       "      <td>76939.0</td>\n",
       "    </tr>\n",
       "    <tr>\n",
       "      <th>2022-01-10</th>\n",
       "      <td>75785.0</td>\n",
       "    </tr>\n",
       "    <tr>\n",
       "      <th>...</th>\n",
       "      <td>...</td>\n",
       "    </tr>\n",
       "    <tr>\n",
       "      <th>2023-12-26</th>\n",
       "      <td>97200.0</td>\n",
       "    </tr>\n",
       "    <tr>\n",
       "      <th>2023-12-27</th>\n",
       "      <td>96900.0</td>\n",
       "    </tr>\n",
       "    <tr>\n",
       "      <th>2023-12-28</th>\n",
       "      <td>96600.0</td>\n",
       "    </tr>\n",
       "    <tr>\n",
       "      <th>2023-12-29</th>\n",
       "      <td>96100.0</td>\n",
       "    </tr>\n",
       "    <tr>\n",
       "      <th>2024-01-02</th>\n",
       "      <td>95900.0</td>\n",
       "    </tr>\n",
       "  </tbody>\n",
       "</table>\n",
       "<p>499 rows × 1 columns</p>\n",
       "</div>"
      ],
      "text/plain": [
       "              close\n",
       "date               \n",
       "2022-01-04  77021.0\n",
       "2022-01-05  77103.0\n",
       "2022-01-06  77021.0\n",
       "2022-01-07  76939.0\n",
       "2022-01-10  75785.0\n",
       "...             ...\n",
       "2023-12-26  97200.0\n",
       "2023-12-27  96900.0\n",
       "2023-12-28  96600.0\n",
       "2023-12-29  96100.0\n",
       "2024-01-02  95900.0\n",
       "\n",
       "[499 rows x 1 columns]"
      ]
     },
     "execution_count": 34,
     "metadata": {},
     "output_type": "execute_result"
    }
   ],
   "source": [
    "# df1 = df.query(\"index >= '2022-01-04' & index <= '2024-01-02'\")[['Close']]\n",
    "df1 = df.query(\"'2022-01-04' <= index <= '2024-01-02'\")[['close']]\n",
    "df1"
   ]
  },
  {
   "cell_type": "code",
   "execution_count": 35,
   "id": "c4132f9f-db78-487a-a041-2b5e88b7489f",
   "metadata": {},
   "outputs": [
    {
     "name": "stdout",
     "output_type": "stream",
     "text": [
      "77021.0 95900.0\n"
     ]
    }
   ],
   "source": [
    "p_ori = df1['close'].loc['2022-01-04']\n",
    "p_cur = df1.loc['2024-01-02']['close']\n",
    "print(p_ori, p_cur)"
   ]
  },
  {
   "cell_type": "code",
   "execution_count": 36,
   "id": "0eccdd69-5598-4663-b4e1-a33ab040e938",
   "metadata": {},
   "outputs": [
    {
     "name": "stdout",
     "output_type": "stream",
     "text": [
      "77021.0 95900.0\n"
     ]
    }
   ],
   "source": [
    "p_ori = df1['close'].iloc[0]\n",
    "p_cur = df1.iloc[-1]['close']\n",
    "print(p_ori, p_cur)"
   ]
  },
  {
   "cell_type": "code",
   "execution_count": 37,
   "id": "36c41716-3894-434d-b563-b23fdb57226f",
   "metadata": {},
   "outputs": [
    {
     "name": "stdout",
     "output_type": "stream",
     "text": [
      "HPR = 24.51%\n"
     ]
    }
   ],
   "source": [
    "hpr = ((p_cur - p_ori) / p_ori) * 100 # (p_cur / p_ori) - 1\n",
    "print(f\"HPR = {hpr:.2f}%\")"
   ]
  },
  {
   "cell_type": "code",
   "execution_count": 38,
   "id": "2393d690-dc94-4afb-a340-689f8e22908f",
   "metadata": {},
   "outputs": [
    {
     "name": "stdout",
     "output_type": "stream",
     "text": [
      "HPR Log = 21.92%\n"
     ]
    }
   ],
   "source": [
    "hpr_log = np.log(p_cur / p_ori) * 100 # np.log là log cơ số e\n",
    "print(f\"HPR Log = {hpr_log:.2f}%\")"
   ]
  },
  {
   "cell_type": "markdown",
   "id": "a77ced84-3a9f-4834-9112-607fb9bee82f",
   "metadata": {},
   "source": [
    "<h3 style=\"color: blue\">1.2. Time-Weighted Rate of Return (TWR)</h3>"
   ]
  },
  {
   "cell_type": "markdown",
   "id": "879601e6-7cfb-4f4a-bc4d-a0cbcdf08641",
   "metadata": {},
   "source": [
    "$$\n",
    "\\large TWR = \\biggl[(1+HPR_1)\\times(1+HPR_2)\\times...\\times(1+HPR_n)\\biggr] - 1\n",
    "$$"
   ]
  },
  {
   "cell_type": "markdown",
   "id": "275fb69f-03be-47d7-b111-f5519123f0d9",
   "metadata": {},
   "source": [
    "<h4>1.2.1. Daily Return</h4>"
   ]
  },
  {
   "cell_type": "code",
   "execution_count": 54,
   "id": "db2f6a5e-f497-4804-bd6f-646c7340bb25",
   "metadata": {},
   "outputs": [
    {
     "data": {
      "text/html": [
       "<div>\n",
       "<style scoped>\n",
       "    .dataframe tbody tr th:only-of-type {\n",
       "        vertical-align: middle;\n",
       "    }\n",
       "\n",
       "    .dataframe tbody tr th {\n",
       "        vertical-align: top;\n",
       "    }\n",
       "\n",
       "    .dataframe thead th {\n",
       "        text-align: right;\n",
       "    }\n",
       "</style>\n",
       "<table border=\"1\" class=\"dataframe\">\n",
       "  <thead>\n",
       "    <tr style=\"text-align: right;\">\n",
       "      <th></th>\n",
       "      <th>close</th>\n",
       "    </tr>\n",
       "    <tr>\n",
       "      <th>date</th>\n",
       "      <th></th>\n",
       "    </tr>\n",
       "  </thead>\n",
       "  <tbody>\n",
       "    <tr>\n",
       "      <th>2015-01-05</th>\n",
       "      <td>11947.7</td>\n",
       "    </tr>\n",
       "    <tr>\n",
       "      <th>2015-01-06</th>\n",
       "      <td>12022.7</td>\n",
       "    </tr>\n",
       "    <tr>\n",
       "      <th>2015-01-07</th>\n",
       "      <td>12097.7</td>\n",
       "    </tr>\n",
       "    <tr>\n",
       "      <th>2015-01-08</th>\n",
       "      <td>11972.7</td>\n",
       "    </tr>\n",
       "    <tr>\n",
       "      <th>2015-01-09</th>\n",
       "      <td>12072.7</td>\n",
       "    </tr>\n",
       "    <tr>\n",
       "      <th>...</th>\n",
       "      <td>...</td>\n",
       "    </tr>\n",
       "    <tr>\n",
       "      <th>2024-01-10</th>\n",
       "      <td>94700.0</td>\n",
       "    </tr>\n",
       "    <tr>\n",
       "      <th>2024-01-11</th>\n",
       "      <td>95000.0</td>\n",
       "    </tr>\n",
       "    <tr>\n",
       "      <th>2024-01-12</th>\n",
       "      <td>94700.0</td>\n",
       "    </tr>\n",
       "    <tr>\n",
       "      <th>2024-01-15</th>\n",
       "      <td>95400.0</td>\n",
       "    </tr>\n",
       "    <tr>\n",
       "      <th>2024-01-16</th>\n",
       "      <td>95100.0</td>\n",
       "    </tr>\n",
       "  </tbody>\n",
       "</table>\n",
       "<p>2258 rows × 1 columns</p>\n",
       "</div>"
      ],
      "text/plain": [
       "              close\n",
       "date               \n",
       "2015-01-05  11947.7\n",
       "2015-01-06  12022.7\n",
       "2015-01-07  12097.7\n",
       "2015-01-08  11972.7\n",
       "2015-01-09  12072.7\n",
       "...             ...\n",
       "2024-01-10  94700.0\n",
       "2024-01-11  95000.0\n",
       "2024-01-12  94700.0\n",
       "2024-01-15  95400.0\n",
       "2024-01-16  95100.0\n",
       "\n",
       "[2258 rows x 1 columns]"
      ]
     },
     "execution_count": 54,
     "metadata": {},
     "output_type": "execute_result"
    }
   ],
   "source": [
    "daily_df = df[['close']].copy()\n",
    "daily_df"
   ]
  },
  {
   "cell_type": "code",
   "execution_count": 55,
   "id": "1a295954-242b-4463-9846-500db34d2576",
   "metadata": {},
   "outputs": [
    {
     "data": {
      "text/html": [
       "<div>\n",
       "<style scoped>\n",
       "    .dataframe tbody tr th:only-of-type {\n",
       "        vertical-align: middle;\n",
       "    }\n",
       "\n",
       "    .dataframe tbody tr th {\n",
       "        vertical-align: top;\n",
       "    }\n",
       "\n",
       "    .dataframe thead th {\n",
       "        text-align: right;\n",
       "    }\n",
       "</style>\n",
       "<table border=\"1\" class=\"dataframe\">\n",
       "  <thead>\n",
       "    <tr style=\"text-align: right;\">\n",
       "      <th></th>\n",
       "      <th>close</th>\n",
       "      <th>return</th>\n",
       "    </tr>\n",
       "    <tr>\n",
       "      <th>date</th>\n",
       "      <th></th>\n",
       "      <th></th>\n",
       "    </tr>\n",
       "  </thead>\n",
       "  <tbody>\n",
       "    <tr>\n",
       "      <th>2015-01-05</th>\n",
       "      <td>11947.7</td>\n",
       "      <td>NaN</td>\n",
       "    </tr>\n",
       "    <tr>\n",
       "      <th>2015-01-06</th>\n",
       "      <td>12022.7</td>\n",
       "      <td>0.006277</td>\n",
       "    </tr>\n",
       "    <tr>\n",
       "      <th>2015-01-07</th>\n",
       "      <td>12097.7</td>\n",
       "      <td>0.006238</td>\n",
       "    </tr>\n",
       "    <tr>\n",
       "      <th>2015-01-08</th>\n",
       "      <td>11972.7</td>\n",
       "      <td>-0.010333</td>\n",
       "    </tr>\n",
       "    <tr>\n",
       "      <th>2015-01-09</th>\n",
       "      <td>12072.7</td>\n",
       "      <td>0.008352</td>\n",
       "    </tr>\n",
       "    <tr>\n",
       "      <th>...</th>\n",
       "      <td>...</td>\n",
       "      <td>...</td>\n",
       "    </tr>\n",
       "    <tr>\n",
       "      <th>2024-01-10</th>\n",
       "      <td>94700.0</td>\n",
       "      <td>-0.019669</td>\n",
       "    </tr>\n",
       "    <tr>\n",
       "      <th>2024-01-11</th>\n",
       "      <td>95000.0</td>\n",
       "      <td>0.003168</td>\n",
       "    </tr>\n",
       "    <tr>\n",
       "      <th>2024-01-12</th>\n",
       "      <td>94700.0</td>\n",
       "      <td>-0.003158</td>\n",
       "    </tr>\n",
       "    <tr>\n",
       "      <th>2024-01-15</th>\n",
       "      <td>95400.0</td>\n",
       "      <td>0.007392</td>\n",
       "    </tr>\n",
       "    <tr>\n",
       "      <th>2024-01-16</th>\n",
       "      <td>95100.0</td>\n",
       "      <td>-0.003145</td>\n",
       "    </tr>\n",
       "  </tbody>\n",
       "</table>\n",
       "<p>2258 rows × 2 columns</p>\n",
       "</div>"
      ],
      "text/plain": [
       "              close    return\n",
       "date                         \n",
       "2015-01-05  11947.7       NaN\n",
       "2015-01-06  12022.7  0.006277\n",
       "2015-01-07  12097.7  0.006238\n",
       "2015-01-08  11972.7 -0.010333\n",
       "2015-01-09  12072.7  0.008352\n",
       "...             ...       ...\n",
       "2024-01-10  94700.0 -0.019669\n",
       "2024-01-11  95000.0  0.003168\n",
       "2024-01-12  94700.0 -0.003158\n",
       "2024-01-15  95400.0  0.007392\n",
       "2024-01-16  95100.0 -0.003145\n",
       "\n",
       "[2258 rows x 2 columns]"
      ]
     },
     "execution_count": 55,
     "metadata": {},
     "output_type": "execute_result"
    }
   ],
   "source": [
    "daily_df['return'] = daily_df['close']/daily_df['close'].shift(1) - 1\n",
    "# daily_df['return'] = daily_df['close'].pct_change()\n",
    "daily_df"
   ]
  },
  {
   "cell_type": "code",
   "execution_count": 56,
   "id": "3d640db7-a8b7-4fa7-8bc1-ecf623659ea8",
   "metadata": {},
   "outputs": [
    {
     "data": {
      "text/html": [
       "<div>\n",
       "<style scoped>\n",
       "    .dataframe tbody tr th:only-of-type {\n",
       "        vertical-align: middle;\n",
       "    }\n",
       "\n",
       "    .dataframe tbody tr th {\n",
       "        vertical-align: top;\n",
       "    }\n",
       "\n",
       "    .dataframe thead th {\n",
       "        text-align: right;\n",
       "    }\n",
       "</style>\n",
       "<table border=\"1\" class=\"dataframe\">\n",
       "  <thead>\n",
       "    <tr style=\"text-align: right;\">\n",
       "      <th></th>\n",
       "      <th>close</th>\n",
       "      <th>return</th>\n",
       "    </tr>\n",
       "    <tr>\n",
       "      <th>date</th>\n",
       "      <th></th>\n",
       "      <th></th>\n",
       "    </tr>\n",
       "  </thead>\n",
       "  <tbody>\n",
       "    <tr>\n",
       "      <th>2015-01-06</th>\n",
       "      <td>12022.7</td>\n",
       "      <td>0.006277</td>\n",
       "    </tr>\n",
       "    <tr>\n",
       "      <th>2015-01-07</th>\n",
       "      <td>12097.7</td>\n",
       "      <td>0.006238</td>\n",
       "    </tr>\n",
       "    <tr>\n",
       "      <th>2015-01-08</th>\n",
       "      <td>11972.7</td>\n",
       "      <td>-0.010333</td>\n",
       "    </tr>\n",
       "    <tr>\n",
       "      <th>2015-01-09</th>\n",
       "      <td>12072.7</td>\n",
       "      <td>0.008352</td>\n",
       "    </tr>\n",
       "    <tr>\n",
       "      <th>2015-01-12</th>\n",
       "      <td>12147.6</td>\n",
       "      <td>0.006204</td>\n",
       "    </tr>\n",
       "    <tr>\n",
       "      <th>...</th>\n",
       "      <td>...</td>\n",
       "      <td>...</td>\n",
       "    </tr>\n",
       "    <tr>\n",
       "      <th>2024-01-10</th>\n",
       "      <td>94700.0</td>\n",
       "      <td>-0.019669</td>\n",
       "    </tr>\n",
       "    <tr>\n",
       "      <th>2024-01-11</th>\n",
       "      <td>95000.0</td>\n",
       "      <td>0.003168</td>\n",
       "    </tr>\n",
       "    <tr>\n",
       "      <th>2024-01-12</th>\n",
       "      <td>94700.0</td>\n",
       "      <td>-0.003158</td>\n",
       "    </tr>\n",
       "    <tr>\n",
       "      <th>2024-01-15</th>\n",
       "      <td>95400.0</td>\n",
       "      <td>0.007392</td>\n",
       "    </tr>\n",
       "    <tr>\n",
       "      <th>2024-01-16</th>\n",
       "      <td>95100.0</td>\n",
       "      <td>-0.003145</td>\n",
       "    </tr>\n",
       "  </tbody>\n",
       "</table>\n",
       "<p>2257 rows × 2 columns</p>\n",
       "</div>"
      ],
      "text/plain": [
       "              close    return\n",
       "date                         \n",
       "2015-01-06  12022.7  0.006277\n",
       "2015-01-07  12097.7  0.006238\n",
       "2015-01-08  11972.7 -0.010333\n",
       "2015-01-09  12072.7  0.008352\n",
       "2015-01-12  12147.6  0.006204\n",
       "...             ...       ...\n",
       "2024-01-10  94700.0 -0.019669\n",
       "2024-01-11  95000.0  0.003168\n",
       "2024-01-12  94700.0 -0.003158\n",
       "2024-01-15  95400.0  0.007392\n",
       "2024-01-16  95100.0 -0.003145\n",
       "\n",
       "[2257 rows x 2 columns]"
      ]
     },
     "execution_count": 56,
     "metadata": {},
     "output_type": "execute_result"
    }
   ],
   "source": [
    "daily_df.dropna(inplace=True)\n",
    "daily_df"
   ]
  },
  {
   "cell_type": "code",
   "execution_count": 57,
   "id": "06f05ba1-1044-4d65-8118-c25399aa6536",
   "metadata": {},
   "outputs": [
    {
     "name": "stdout",
     "output_type": "stream",
     "text": [
      "Daily TWR = 695.97%\n"
     ]
    }
   ],
   "source": [
    "daily_twr = (1 + daily_df['return']).prod() - 1\n",
    "print(f\"Daily TWR = {(daily_twr * 100):.2f}%\")"
   ]
  },
  {
   "cell_type": "markdown",
   "id": "30882a6a-4432-449a-b5c9-a88665d590b9",
   "metadata": {},
   "source": [
    "<h4>1.2.2. Monthly Return</h4>"
   ]
  },
  {
   "cell_type": "code",
   "execution_count": null,
   "id": "0ce7484d-ee5f-4a3a-a05f-0f1bd8a11cca",
   "metadata": {},
   "outputs": [],
   "source": [
    "## Rule of Resample\n",
    "# B       business day frequency\n",
    "# C       custom business day frequency (experimental)\n",
    "# D       calendar day frequency\n",
    "# W       weekly frequency\n",
    "# M       month end frequency\n",
    "# SM      semi-month end frequency (15th and end of month)\n",
    "# BM      business month end frequency\n",
    "# CBM     custom business month end frequency\n",
    "# MS      month start frequency\n",
    "# SMS     semi-month start frequency (1st and 15th)\n",
    "# BMS     business month start frequency\n",
    "# CBMS    custom business month start frequency\n",
    "# Q       quarter end frequency\n",
    "# BQ      business quarter endfrequency\n",
    "# QS      quarter start frequency\n",
    "# BQS     business quarter start frequency\n",
    "# A       year end frequency\n",
    "# BA      business year end frequency\n",
    "# AS      year start frequency\n",
    "# BAS     business year start frequency\n",
    "# BH      business hour frequency\n",
    "# H       hourly frequency\n",
    "# T       minutely frequency\n",
    "# S       secondly frequency\n",
    "# L       milliseonds\n",
    "# U       microseconds\n",
    "# N       nanoseconds"
   ]
  },
  {
   "cell_type": "code",
   "execution_count": 64,
   "id": "bfaade5a-b004-4ff5-8dfc-0a6a12441b4b",
   "metadata": {},
   "outputs": [
    {
     "data": {
      "text/html": [
       "<div>\n",
       "<style scoped>\n",
       "    .dataframe tbody tr th:only-of-type {\n",
       "        vertical-align: middle;\n",
       "    }\n",
       "\n",
       "    .dataframe tbody tr th {\n",
       "        vertical-align: top;\n",
       "    }\n",
       "\n",
       "    .dataframe thead th {\n",
       "        text-align: right;\n",
       "    }\n",
       "</style>\n",
       "<table border=\"1\" class=\"dataframe\">\n",
       "  <thead>\n",
       "    <tr style=\"text-align: right;\">\n",
       "      <th></th>\n",
       "      <th>close</th>\n",
       "    </tr>\n",
       "    <tr>\n",
       "      <th>date</th>\n",
       "      <th></th>\n",
       "    </tr>\n",
       "  </thead>\n",
       "  <tbody>\n",
       "    <tr>\n",
       "      <th>2015-01-31</th>\n",
       "      <td>11872.7</td>\n",
       "    </tr>\n",
       "    <tr>\n",
       "      <th>2015-02-28</th>\n",
       "      <td>12197.6</td>\n",
       "    </tr>\n",
       "    <tr>\n",
       "      <th>2015-03-31</th>\n",
       "      <td>12097.7</td>\n",
       "    </tr>\n",
       "    <tr>\n",
       "      <th>2015-04-30</th>\n",
       "      <td>12872.5</td>\n",
       "    </tr>\n",
       "    <tr>\n",
       "      <th>2015-05-31</th>\n",
       "      <td>13186.2</td>\n",
       "    </tr>\n",
       "    <tr>\n",
       "      <th>...</th>\n",
       "      <td>...</td>\n",
       "    </tr>\n",
       "    <tr>\n",
       "      <th>2023-08-31</th>\n",
       "      <td>96700.0</td>\n",
       "    </tr>\n",
       "    <tr>\n",
       "      <th>2023-09-30</th>\n",
       "      <td>92800.0</td>\n",
       "    </tr>\n",
       "    <tr>\n",
       "      <th>2023-10-31</th>\n",
       "      <td>83000.0</td>\n",
       "    </tr>\n",
       "    <tr>\n",
       "      <th>2023-11-30</th>\n",
       "      <td>91900.0</td>\n",
       "    </tr>\n",
       "    <tr>\n",
       "      <th>2023-12-31</th>\n",
       "      <td>96100.0</td>\n",
       "    </tr>\n",
       "  </tbody>\n",
       "</table>\n",
       "<p>108 rows × 1 columns</p>\n",
       "</div>"
      ],
      "text/plain": [
       "              close\n",
       "date               \n",
       "2015-01-31  11872.7\n",
       "2015-02-28  12197.6\n",
       "2015-03-31  12097.7\n",
       "2015-04-30  12872.5\n",
       "2015-05-31  13186.2\n",
       "...             ...\n",
       "2023-08-31  96700.0\n",
       "2023-09-30  92800.0\n",
       "2023-10-31  83000.0\n",
       "2023-11-30  91900.0\n",
       "2023-12-31  96100.0\n",
       "\n",
       "[108 rows x 1 columns]"
      ]
     },
     "execution_count": 64,
     "metadata": {},
     "output_type": "execute_result"
    }
   ],
   "source": [
    "monthly_df = df.resample('M').aggregate({'close': 'last'}).iloc[0:-1]\n",
    "# monthly_df = df.resample('M').last().iloc[0:-1]\n",
    "monthly_df"
   ]
  },
  {
   "cell_type": "code",
   "execution_count": 65,
   "id": "cebf7d9b-019e-4126-aeb9-af56d347a607",
   "metadata": {},
   "outputs": [
    {
     "data": {
      "text/html": [
       "<div>\n",
       "<style scoped>\n",
       "    .dataframe tbody tr th:only-of-type {\n",
       "        vertical-align: middle;\n",
       "    }\n",
       "\n",
       "    .dataframe tbody tr th {\n",
       "        vertical-align: top;\n",
       "    }\n",
       "\n",
       "    .dataframe thead th {\n",
       "        text-align: right;\n",
       "    }\n",
       "</style>\n",
       "<table border=\"1\" class=\"dataframe\">\n",
       "  <thead>\n",
       "    <tr style=\"text-align: right;\">\n",
       "      <th></th>\n",
       "      <th>close</th>\n",
       "      <th>return</th>\n",
       "    </tr>\n",
       "    <tr>\n",
       "      <th>date</th>\n",
       "      <th></th>\n",
       "      <th></th>\n",
       "    </tr>\n",
       "  </thead>\n",
       "  <tbody>\n",
       "    <tr>\n",
       "      <th>2015-01-31</th>\n",
       "      <td>11872.7</td>\n",
       "      <td>NaN</td>\n",
       "    </tr>\n",
       "    <tr>\n",
       "      <th>2015-02-28</th>\n",
       "      <td>12197.6</td>\n",
       "      <td>0.027365</td>\n",
       "    </tr>\n",
       "    <tr>\n",
       "      <th>2015-03-31</th>\n",
       "      <td>12097.7</td>\n",
       "      <td>-0.008190</td>\n",
       "    </tr>\n",
       "    <tr>\n",
       "      <th>2015-04-30</th>\n",
       "      <td>12872.5</td>\n",
       "      <td>0.064045</td>\n",
       "    </tr>\n",
       "    <tr>\n",
       "      <th>2015-05-31</th>\n",
       "      <td>13186.2</td>\n",
       "      <td>0.024370</td>\n",
       "    </tr>\n",
       "    <tr>\n",
       "      <th>...</th>\n",
       "      <td>...</td>\n",
       "      <td>...</td>\n",
       "    </tr>\n",
       "    <tr>\n",
       "      <th>2023-08-31</th>\n",
       "      <td>96700.0</td>\n",
       "      <td>0.129673</td>\n",
       "    </tr>\n",
       "    <tr>\n",
       "      <th>2023-09-30</th>\n",
       "      <td>92800.0</td>\n",
       "      <td>-0.040331</td>\n",
       "    </tr>\n",
       "    <tr>\n",
       "      <th>2023-10-31</th>\n",
       "      <td>83000.0</td>\n",
       "      <td>-0.105603</td>\n",
       "    </tr>\n",
       "    <tr>\n",
       "      <th>2023-11-30</th>\n",
       "      <td>91900.0</td>\n",
       "      <td>0.107229</td>\n",
       "    </tr>\n",
       "    <tr>\n",
       "      <th>2023-12-31</th>\n",
       "      <td>96100.0</td>\n",
       "      <td>0.045702</td>\n",
       "    </tr>\n",
       "  </tbody>\n",
       "</table>\n",
       "<p>108 rows × 2 columns</p>\n",
       "</div>"
      ],
      "text/plain": [
       "              close    return\n",
       "date                         \n",
       "2015-01-31  11872.7       NaN\n",
       "2015-02-28  12197.6  0.027365\n",
       "2015-03-31  12097.7 -0.008190\n",
       "2015-04-30  12872.5  0.064045\n",
       "2015-05-31  13186.2  0.024370\n",
       "...             ...       ...\n",
       "2023-08-31  96700.0  0.129673\n",
       "2023-09-30  92800.0 -0.040331\n",
       "2023-10-31  83000.0 -0.105603\n",
       "2023-11-30  91900.0  0.107229\n",
       "2023-12-31  96100.0  0.045702\n",
       "\n",
       "[108 rows x 2 columns]"
      ]
     },
     "execution_count": 65,
     "metadata": {},
     "output_type": "execute_result"
    }
   ],
   "source": [
    "monthly_df['return'] = monthly_df['close']/monthly_df['close'].shift(1) - 1\n",
    "monthly_df"
   ]
  },
  {
   "cell_type": "code",
   "execution_count": 66,
   "id": "e486de3c-f8ba-45bc-a1c8-eb8ca82e88ba",
   "metadata": {},
   "outputs": [
    {
     "data": {
      "text/html": [
       "<div>\n",
       "<style scoped>\n",
       "    .dataframe tbody tr th:only-of-type {\n",
       "        vertical-align: middle;\n",
       "    }\n",
       "\n",
       "    .dataframe tbody tr th {\n",
       "        vertical-align: top;\n",
       "    }\n",
       "\n",
       "    .dataframe thead th {\n",
       "        text-align: right;\n",
       "    }\n",
       "</style>\n",
       "<table border=\"1\" class=\"dataframe\">\n",
       "  <thead>\n",
       "    <tr style=\"text-align: right;\">\n",
       "      <th></th>\n",
       "      <th>close</th>\n",
       "      <th>return</th>\n",
       "    </tr>\n",
       "    <tr>\n",
       "      <th>date</th>\n",
       "      <th></th>\n",
       "      <th></th>\n",
       "    </tr>\n",
       "  </thead>\n",
       "  <tbody>\n",
       "    <tr>\n",
       "      <th>2015-02-28</th>\n",
       "      <td>12197.6</td>\n",
       "      <td>0.027365</td>\n",
       "    </tr>\n",
       "    <tr>\n",
       "      <th>2015-03-31</th>\n",
       "      <td>12097.7</td>\n",
       "      <td>-0.008190</td>\n",
       "    </tr>\n",
       "    <tr>\n",
       "      <th>2015-04-30</th>\n",
       "      <td>12872.5</td>\n",
       "      <td>0.064045</td>\n",
       "    </tr>\n",
       "    <tr>\n",
       "      <th>2015-05-31</th>\n",
       "      <td>13186.2</td>\n",
       "      <td>0.024370</td>\n",
       "    </tr>\n",
       "    <tr>\n",
       "      <th>2015-06-30</th>\n",
       "      <td>13596.4</td>\n",
       "      <td>0.031108</td>\n",
       "    </tr>\n",
       "    <tr>\n",
       "      <th>...</th>\n",
       "      <td>...</td>\n",
       "      <td>...</td>\n",
       "    </tr>\n",
       "    <tr>\n",
       "      <th>2023-08-31</th>\n",
       "      <td>96700.0</td>\n",
       "      <td>0.129673</td>\n",
       "    </tr>\n",
       "    <tr>\n",
       "      <th>2023-09-30</th>\n",
       "      <td>92800.0</td>\n",
       "      <td>-0.040331</td>\n",
       "    </tr>\n",
       "    <tr>\n",
       "      <th>2023-10-31</th>\n",
       "      <td>83000.0</td>\n",
       "      <td>-0.105603</td>\n",
       "    </tr>\n",
       "    <tr>\n",
       "      <th>2023-11-30</th>\n",
       "      <td>91900.0</td>\n",
       "      <td>0.107229</td>\n",
       "    </tr>\n",
       "    <tr>\n",
       "      <th>2023-12-31</th>\n",
       "      <td>96100.0</td>\n",
       "      <td>0.045702</td>\n",
       "    </tr>\n",
       "  </tbody>\n",
       "</table>\n",
       "<p>107 rows × 2 columns</p>\n",
       "</div>"
      ],
      "text/plain": [
       "              close    return\n",
       "date                         \n",
       "2015-02-28  12197.6  0.027365\n",
       "2015-03-31  12097.7 -0.008190\n",
       "2015-04-30  12872.5  0.064045\n",
       "2015-05-31  13186.2  0.024370\n",
       "2015-06-30  13596.4  0.031108\n",
       "...             ...       ...\n",
       "2023-08-31  96700.0  0.129673\n",
       "2023-09-30  92800.0 -0.040331\n",
       "2023-10-31  83000.0 -0.105603\n",
       "2023-11-30  91900.0  0.107229\n",
       "2023-12-31  96100.0  0.045702\n",
       "\n",
       "[107 rows x 2 columns]"
      ]
     },
     "execution_count": 66,
     "metadata": {},
     "output_type": "execute_result"
    }
   ],
   "source": [
    "monthly_df.dropna(inplace=True)\n",
    "monthly_df"
   ]
  },
  {
   "cell_type": "code",
   "execution_count": 67,
   "id": "dfd77254-ead9-4d02-8b5c-1ff727d2672f",
   "metadata": {},
   "outputs": [
    {
     "name": "stdout",
     "output_type": "stream",
     "text": [
      "Monthly TWR = 709.42%\n"
     ]
    }
   ],
   "source": [
    "monthly_twr = (1 + monthly_df['return']).prod() - 1\n",
    "print(f\"Monthly TWR = {(monthly_twr * 100):.2f}%\")"
   ]
  },
  {
   "cell_type": "markdown",
   "id": "22105c36-8a8f-4aa3-ab83-fca346c23a24",
   "metadata": {},
   "source": [
    "<h4>1.2.3. Yearly Return</h4>"
   ]
  },
  {
   "cell_type": "code",
   "execution_count": 69,
   "id": "7f693314-772b-4fb2-8ed3-78e3613c1bb1",
   "metadata": {},
   "outputs": [
    {
     "data": {
      "text/html": [
       "<div>\n",
       "<style scoped>\n",
       "    .dataframe tbody tr th:only-of-type {\n",
       "        vertical-align: middle;\n",
       "    }\n",
       "\n",
       "    .dataframe tbody tr th {\n",
       "        vertical-align: top;\n",
       "    }\n",
       "\n",
       "    .dataframe thead th {\n",
       "        text-align: right;\n",
       "    }\n",
       "</style>\n",
       "<table border=\"1\" class=\"dataframe\">\n",
       "  <thead>\n",
       "    <tr style=\"text-align: right;\">\n",
       "      <th></th>\n",
       "      <th>close</th>\n",
       "    </tr>\n",
       "    <tr>\n",
       "      <th>date</th>\n",
       "      <th></th>\n",
       "    </tr>\n",
       "  </thead>\n",
       "  <tbody>\n",
       "    <tr>\n",
       "      <th>2015-12-31</th>\n",
       "      <td>14463.5</td>\n",
       "    </tr>\n",
       "    <tr>\n",
       "      <th>2016-12-31</th>\n",
       "      <td>15852.0</td>\n",
       "    </tr>\n",
       "    <tr>\n",
       "      <th>2017-12-31</th>\n",
       "      <td>24656.5</td>\n",
       "    </tr>\n",
       "    <tr>\n",
       "      <th>2018-12-31</th>\n",
       "      <td>22000.1</td>\n",
       "    </tr>\n",
       "    <tr>\n",
       "      <th>2019-12-31</th>\n",
       "      <td>34708.9</td>\n",
       "    </tr>\n",
       "    <tr>\n",
       "      <th>2020-12-31</th>\n",
       "      <td>41516.2</td>\n",
       "    </tr>\n",
       "    <tr>\n",
       "      <th>2021-12-31</th>\n",
       "      <td>76609.0</td>\n",
       "    </tr>\n",
       "    <tr>\n",
       "      <th>2022-12-31</th>\n",
       "      <td>76900.0</td>\n",
       "    </tr>\n",
       "    <tr>\n",
       "      <th>2023-12-31</th>\n",
       "      <td>96100.0</td>\n",
       "    </tr>\n",
       "  </tbody>\n",
       "</table>\n",
       "</div>"
      ],
      "text/plain": [
       "              close\n",
       "date               \n",
       "2015-12-31  14463.5\n",
       "2016-12-31  15852.0\n",
       "2017-12-31  24656.5\n",
       "2018-12-31  22000.1\n",
       "2019-12-31  34708.9\n",
       "2020-12-31  41516.2\n",
       "2021-12-31  76609.0\n",
       "2022-12-31  76900.0\n",
       "2023-12-31  96100.0"
      ]
     },
     "execution_count": 69,
     "metadata": {},
     "output_type": "execute_result"
    }
   ],
   "source": [
    "yearly_df = df.resample('A').aggregate({'close': 'last'}).iloc[0:-1]\n",
    "yearly_df"
   ]
  },
  {
   "cell_type": "code",
   "execution_count": 71,
   "id": "0942dd3f-263f-44a5-a5e2-1c6d27f305f1",
   "metadata": {},
   "outputs": [
    {
     "data": {
      "text/html": [
       "<div>\n",
       "<style scoped>\n",
       "    .dataframe tbody tr th:only-of-type {\n",
       "        vertical-align: middle;\n",
       "    }\n",
       "\n",
       "    .dataframe tbody tr th {\n",
       "        vertical-align: top;\n",
       "    }\n",
       "\n",
       "    .dataframe thead th {\n",
       "        text-align: right;\n",
       "    }\n",
       "</style>\n",
       "<table border=\"1\" class=\"dataframe\">\n",
       "  <thead>\n",
       "    <tr style=\"text-align: right;\">\n",
       "      <th></th>\n",
       "      <th>close</th>\n",
       "      <th>return</th>\n",
       "    </tr>\n",
       "    <tr>\n",
       "      <th>date</th>\n",
       "      <th></th>\n",
       "      <th></th>\n",
       "    </tr>\n",
       "  </thead>\n",
       "  <tbody>\n",
       "    <tr>\n",
       "      <th>2017-12-31</th>\n",
       "      <td>24656.5</td>\n",
       "      <td>0.555419</td>\n",
       "    </tr>\n",
       "    <tr>\n",
       "      <th>2018-12-31</th>\n",
       "      <td>22000.1</td>\n",
       "      <td>-0.107736</td>\n",
       "    </tr>\n",
       "    <tr>\n",
       "      <th>2019-12-31</th>\n",
       "      <td>34708.9</td>\n",
       "      <td>0.577670</td>\n",
       "    </tr>\n",
       "    <tr>\n",
       "      <th>2020-12-31</th>\n",
       "      <td>41516.2</td>\n",
       "      <td>0.196125</td>\n",
       "    </tr>\n",
       "    <tr>\n",
       "      <th>2021-12-31</th>\n",
       "      <td>76609.0</td>\n",
       "      <td>0.845280</td>\n",
       "    </tr>\n",
       "    <tr>\n",
       "      <th>2022-12-31</th>\n",
       "      <td>76900.0</td>\n",
       "      <td>0.003799</td>\n",
       "    </tr>\n",
       "    <tr>\n",
       "      <th>2023-12-31</th>\n",
       "      <td>96100.0</td>\n",
       "      <td>0.249675</td>\n",
       "    </tr>\n",
       "  </tbody>\n",
       "</table>\n",
       "</div>"
      ],
      "text/plain": [
       "              close    return\n",
       "date                         \n",
       "2017-12-31  24656.5  0.555419\n",
       "2018-12-31  22000.1 -0.107736\n",
       "2019-12-31  34708.9  0.577670\n",
       "2020-12-31  41516.2  0.196125\n",
       "2021-12-31  76609.0  0.845280\n",
       "2022-12-31  76900.0  0.003799\n",
       "2023-12-31  96100.0  0.249675"
      ]
     },
     "execution_count": 71,
     "metadata": {},
     "output_type": "execute_result"
    }
   ],
   "source": [
    "yearly_df['return'] = yearly_df['close'].pct_change()\n",
    "yearly_df.dropna(inplace=True)\n",
    "yearly_df"
   ]
  },
  {
   "cell_type": "code",
   "execution_count": 72,
   "id": "bcdc870b-fdac-461b-8e29-e538e1334710",
   "metadata": {},
   "outputs": [
    {
     "name": "stdout",
     "output_type": "stream",
     "text": [
      "Yearly TWR = 506.23%\n"
     ]
    }
   ],
   "source": [
    "yearly_twr = (1 + yearly_df['return']).prod() - 1\n",
    "print(f\"Yearly TWR = {(yearly_twr * 100):.2f}%\")"
   ]
  },
  {
   "cell_type": "markdown",
   "id": "ad423386-40ed-4660-84fa-8466da616efb",
   "metadata": {},
   "source": [
    "<h2 style=\"color: blue\">2. Sự khác nhau giữa prod() và cumprod()</h2>"
   ]
  },
  {
   "cell_type": "code",
   "execution_count": 73,
   "id": "91de310a-e563-491a-8069-f98e06a8ffff",
   "metadata": {},
   "outputs": [
    {
     "data": {
      "text/html": [
       "<div>\n",
       "<style scoped>\n",
       "    .dataframe tbody tr th:only-of-type {\n",
       "        vertical-align: middle;\n",
       "    }\n",
       "\n",
       "    .dataframe tbody tr th {\n",
       "        vertical-align: top;\n",
       "    }\n",
       "\n",
       "    .dataframe thead th {\n",
       "        text-align: right;\n",
       "    }\n",
       "</style>\n",
       "<table border=\"1\" class=\"dataframe\">\n",
       "  <thead>\n",
       "    <tr style=\"text-align: right;\">\n",
       "      <th></th>\n",
       "      <th>return</th>\n",
       "    </tr>\n",
       "  </thead>\n",
       "  <tbody>\n",
       "    <tr>\n",
       "      <th>0</th>\n",
       "      <td>0.10</td>\n",
       "    </tr>\n",
       "    <tr>\n",
       "      <th>1</th>\n",
       "      <td>0.18</td>\n",
       "    </tr>\n",
       "    <tr>\n",
       "      <th>2</th>\n",
       "      <td>0.20</td>\n",
       "    </tr>\n",
       "  </tbody>\n",
       "</table>\n",
       "</div>"
      ],
      "text/plain": [
       "   return\n",
       "0    0.10\n",
       "1    0.18\n",
       "2    0.20"
      ]
     },
     "execution_count": 73,
     "metadata": {},
     "output_type": "execute_result"
    }
   ],
   "source": [
    "data = [0.10, 0.18, 0.20]\n",
    "df5 = pd.DataFrame({'return': data})\n",
    "df5"
   ]
  },
  {
   "cell_type": "code",
   "execution_count": 74,
   "id": "6b1570bd-ccf6-40b7-b387-7e31f849f943",
   "metadata": {},
   "outputs": [
    {
     "data": {
      "text/plain": [
       "0    1.10\n",
       "1    1.18\n",
       "2    1.20\n",
       "Name: return, dtype: float64"
      ]
     },
     "execution_count": 74,
     "metadata": {},
     "output_type": "execute_result"
    }
   ],
   "source": [
    "1 + df5['return']"
   ]
  },
  {
   "cell_type": "code",
   "execution_count": 75,
   "id": "11d6ee03-4271-4752-94ea-b4a8e09f7b71",
   "metadata": {},
   "outputs": [
    {
     "data": {
      "text/plain": [
       "1.5576"
      ]
     },
     "execution_count": 75,
     "metadata": {},
     "output_type": "execute_result"
    }
   ],
   "source": [
    "(1 + df5['return']).prod()"
   ]
  },
  {
   "cell_type": "code",
   "execution_count": 76,
   "id": "ce1434bb-261f-41b5-98a1-b43526d8f940",
   "metadata": {},
   "outputs": [
    {
     "data": {
      "text/plain": [
       "0    1.1000\n",
       "1    1.2980\n",
       "2    1.5576\n",
       "Name: return, dtype: float64"
      ]
     },
     "execution_count": 76,
     "metadata": {},
     "output_type": "execute_result"
    }
   ],
   "source": [
    "(1 + df5['return']).cumprod()"
   ]
  },
  {
   "cell_type": "markdown",
   "id": "9bf0ad6e-db01-4e93-9cc9-ade10c5f5654",
   "metadata": {},
   "source": [
    "<h2 style=\"color: blue\">3. Tại sao phải cộng 1 và trừ 1 khi tính cumulative return</h2>"
   ]
  },
  {
   "cell_type": "code",
   "execution_count": null,
   "id": "7c0aee06-1686-423a-a655-ca372eb88701",
   "metadata": {},
   "outputs": [],
   "source": [
    "(1 + df5['return']).prod() - 1 # tạo sao cộng 1 và trừ 1?"
   ]
  },
  {
   "cell_type": "code",
   "execution_count": 77,
   "id": "6d0e6040-3eb6-4301-abf8-19948e6cb264",
   "metadata": {},
   "outputs": [
    {
     "data": {
      "text/plain": [
       "155.76000000000002"
      ]
     },
     "execution_count": 77,
     "metadata": {},
     "output_type": "execute_result"
    }
   ],
   "source": [
    "# Yearly Return\n",
    "R1 = 0.10\n",
    "R2 = 0.18\n",
    "R3 = 0.20\n",
    "\n",
    "# Tiền vốn\n",
    "ori_amount = 100 # 100 USD\n",
    "\n",
    "cur_amount = ori_amount * (1 + R1) * (1 + R2) * (1 + R3)\n",
    "cur_amount"
   ]
  },
  {
   "cell_type": "code",
   "execution_count": 78,
   "id": "d6862484-5dd9-4aa6-942c-c7e53b772334",
   "metadata": {},
   "outputs": [
    {
     "data": {
      "text/plain": [
       "55.76000000000002"
      ]
     },
     "execution_count": 78,
     "metadata": {},
     "output_type": "execute_result"
    }
   ],
   "source": [
    "cur_amount - ori_amount"
   ]
  },
  {
   "cell_type": "code",
   "execution_count": 79,
   "id": "b3e0889b-00f9-44e4-86c1-07e06fbb1c64",
   "metadata": {},
   "outputs": [
    {
     "data": {
      "text/plain": [
       "55.76000000000002"
      ]
     },
     "execution_count": 79,
     "metadata": {},
     "output_type": "execute_result"
    }
   ],
   "source": [
    "ori_amount * (1 + R1) * (1 + R2) * (1 + R3) - ori_amount"
   ]
  },
  {
   "cell_type": "code",
   "execution_count": 80,
   "id": "2e088f9c-4090-4e01-809b-81ebbce0d4e8",
   "metadata": {},
   "outputs": [
    {
     "data": {
      "text/plain": [
       "55.76000000000001"
      ]
     },
     "execution_count": 80,
     "metadata": {},
     "output_type": "execute_result"
    }
   ],
   "source": [
    "ori_amount * ((1 + R1) * (1 + R2) * (1 + R3) - 1)"
   ]
  },
  {
   "cell_type": "code",
   "execution_count": 83,
   "id": "1bd26528-4bf5-407c-b74d-607e6694fc33",
   "metadata": {},
   "outputs": [
    {
     "data": {
      "text/plain": [
       "0.5576000000000001"
      ]
     },
     "execution_count": 83,
     "metadata": {},
     "output_type": "execute_result"
    }
   ],
   "source": [
    "# ori_amount = 1 USD\n",
    "((1 + R1) * (1 + R2) * (1 + R3) - 1)"
   ]
  },
  {
   "cell_type": "markdown",
   "id": "f8d077e2-325c-4f4f-b0ed-e712c7d9b5f0",
   "metadata": {},
   "source": [
    "<h2 style=\"color: blue\">4. Annualized Return</h2>\n",
    "\n",
    "- Annualized Return còn có tên gọi khác là Compounded Annual Growth Rate (CAGR). Là khoản lợi nhuận hàng năm của khoản đầu tư dùng để phân tích lời/lỗ trong một khoảng thời gian có tính đến lãi kép.\n",
    "- Annualized Return cho phép các nhà đầu tư so sánh các khoản đầu tư với các khoảng thời gian khác nhau."
   ]
  },
  {
   "cell_type": "markdown",
   "id": "9e4e4032-a24f-4a84-b353-e4c0d72d942c",
   "metadata": {},
   "source": [
    "<h3 style=\"color: blue\">4.1. Nếu biết tỷ suất lợi nhuận hàng năm trong suốt thời gian đầu tư</h3>"
   ]
  },
  {
   "cell_type": "markdown",
   "id": "c9118972-dfb6-45b1-9879-5fbeec00ec83",
   "metadata": {},
   "source": [
    "$$\n",
    "\\large R_A=\\biggl[ (1+R_1)\\times(1+R_2)\\times...\\times(1+R_n) \\biggr] ^{\\frac{\\displaystyle 1}{\\displaystyle n}} - 1\n",
    "$$\n",
    "\n",
    "- $R_1$: annual return của năm 1\n",
    "- $R_2$: annual return của năm 2...\n",
    "- $n$: số năm"
   ]
  },
  {
   "cell_type": "code",
   "execution_count": 84,
   "id": "943128f9-5d1d-4c21-8f03-952555c81d98",
   "metadata": {},
   "outputs": [
    {
     "name": "stdout",
     "output_type": "stream",
     "text": [
      "Annualized Return in 5 years: 9.54%\n"
     ]
    }
   ],
   "source": [
    "# Yearly Return\n",
    "df6 = pd.DataFrame({'return': [0.10, 0.12, 0.21, -0.08, 0.15]})\n",
    "n = df6.shape[0]\n",
    "\n",
    "Ra = (1 + df6['return']).prod() ** (1/n) - 1\n",
    "print(f\"Annualized Return in {n} years: {(Ra * 100):.2f}%\")"
   ]
  },
  {
   "cell_type": "markdown",
   "id": "8e819149-6db7-4aea-b51c-a70761eeedc6",
   "metadata": {},
   "source": [
    "<h3 style=\"color: blue\">4.2. Nếu biết cumulative return, thì annualized return có thể được tính trong một khoảng thời gian nhất định và thời gian đầu tư không cần phải tính bằng năm</h3>"
   ]
  },
  {
   "cell_type": "markdown",
   "id": "5dd55fbe-1ffb-4597-9716-8e5817900064",
   "metadata": {},
   "source": [
    "$$\n",
    "\\large R_A=\\biggl(1+R_C\\biggr)^{\\frac{\\displaystyle 365}{\\displaystyle m}} - 1\n",
    "$$\n",
    "\n",
    "- $R_C$: cummulative return\n",
    "- $m$: số ngày nắm giữ"
   ]
  },
  {
   "cell_type": "code",
   "execution_count": 85,
   "id": "6e1ad70c-3c95-4cad-9142-b43e22dff5b6",
   "metadata": {},
   "outputs": [
    {
     "name": "stdout",
     "output_type": "stream",
     "text": [
      "Annualized Return in 650 days: 8.56%\n"
     ]
    }
   ],
   "source": [
    "\"\"\"\n",
    "Giả sử một nhà đầu tư nắm giữ khoản đầu tư trong 650 ngày và Cumulative Return là 15,75%. \n",
    "Hỏi Annualized Return sẽ là bao nhiêu?\n",
    "\"\"\"\n",
    "Rc = 15.75/100\n",
    "m = 650\n",
    "Ra = (1 + Rc) ** (365/m) - 1\n",
    "print(f\"Annualized Return in 650 days: {(Ra * 100):.2f}%\")"
   ]
  },
  {
   "cell_type": "markdown",
   "id": "49f31a39-3076-4f67-baa5-e6fb5edbd54b",
   "metadata": {},
   "source": [
    "<h3 style=\"color: blue\">4.3. Nếu biết giá trị ban đầu và cuối cùng của khoản đầu tư</h3>"
   ]
  },
  {
   "cell_type": "markdown",
   "id": "64b15e62-b471-44af-a847-7324c37db675",
   "metadata": {},
   "source": [
    "$$\n",
    "\\large R_A=\\biggl(\\frac{P_{end}}{P_{start}}\\biggr)^{\\frac{\\displaystyle 1}{\\displaystyle n}} - 1\n",
    "$$\n",
    "\n",
    "- $P_{start}$: Giá trị ban đầu của khoản đầu tư\n",
    "- $P_{end}$: Giá trị cuối cùng của khoản đầu tư\n",
    "- $n$: số năm"
   ]
  },
  {
   "cell_type": "code",
   "execution_count": 86,
   "id": "8859179f-3a96-4d45-9143-bf4a7847d8fa",
   "metadata": {},
   "outputs": [
    {
     "data": {
      "text/html": [
       "<div>\n",
       "<style scoped>\n",
       "    .dataframe tbody tr th:only-of-type {\n",
       "        vertical-align: middle;\n",
       "    }\n",
       "\n",
       "    .dataframe tbody tr th {\n",
       "        vertical-align: top;\n",
       "    }\n",
       "\n",
       "    .dataframe thead th {\n",
       "        text-align: right;\n",
       "    }\n",
       "</style>\n",
       "<table border=\"1\" class=\"dataframe\">\n",
       "  <thead>\n",
       "    <tr style=\"text-align: right;\">\n",
       "      <th></th>\n",
       "      <th>close</th>\n",
       "      <th>return</th>\n",
       "    </tr>\n",
       "    <tr>\n",
       "      <th>date</th>\n",
       "      <th></th>\n",
       "      <th></th>\n",
       "    </tr>\n",
       "  </thead>\n",
       "  <tbody>\n",
       "    <tr>\n",
       "      <th>2017-12-31</th>\n",
       "      <td>24656.5</td>\n",
       "      <td>0.555419</td>\n",
       "    </tr>\n",
       "    <tr>\n",
       "      <th>2018-12-31</th>\n",
       "      <td>22000.1</td>\n",
       "      <td>-0.107736</td>\n",
       "    </tr>\n",
       "    <tr>\n",
       "      <th>2019-12-31</th>\n",
       "      <td>34708.9</td>\n",
       "      <td>0.577670</td>\n",
       "    </tr>\n",
       "    <tr>\n",
       "      <th>2020-12-31</th>\n",
       "      <td>41516.2</td>\n",
       "      <td>0.196125</td>\n",
       "    </tr>\n",
       "    <tr>\n",
       "      <th>2021-12-31</th>\n",
       "      <td>76609.0</td>\n",
       "      <td>0.845280</td>\n",
       "    </tr>\n",
       "    <tr>\n",
       "      <th>2022-12-31</th>\n",
       "      <td>76900.0</td>\n",
       "      <td>0.003799</td>\n",
       "    </tr>\n",
       "    <tr>\n",
       "      <th>2023-12-31</th>\n",
       "      <td>96100.0</td>\n",
       "      <td>0.249675</td>\n",
       "    </tr>\n",
       "  </tbody>\n",
       "</table>\n",
       "</div>"
      ],
      "text/plain": [
       "              close    return\n",
       "date                         \n",
       "2017-12-31  24656.5  0.555419\n",
       "2018-12-31  22000.1 -0.107736\n",
       "2019-12-31  34708.9  0.577670\n",
       "2020-12-31  41516.2  0.196125\n",
       "2021-12-31  76609.0  0.845280\n",
       "2022-12-31  76900.0  0.003799\n",
       "2023-12-31  96100.0  0.249675"
      ]
     },
     "execution_count": 86,
     "metadata": {},
     "output_type": "execute_result"
    }
   ],
   "source": [
    "yearly_df"
   ]
  },
  {
   "cell_type": "code",
   "execution_count": 87,
   "id": "f73597e6-971f-4570-9133-7a43aa89d330",
   "metadata": {},
   "outputs": [
    {
     "name": "stdout",
     "output_type": "stream",
     "text": [
      "Annualized Return in 7 years: 21.45%\n"
     ]
    }
   ],
   "source": [
    "n = yearly_df.shape[0]\n",
    "\n",
    "Ra = (yearly_df.iloc[-1]['close']/yearly_df.iloc[0]['close']) ** (1/n) - 1\n",
    "print(f\"Annualized Return in {n} years: {(Ra * 100):.2f}%\")"
   ]
  },
  {
   "cell_type": "markdown",
   "id": "53397f0e-9ad5-44f6-afb6-07710bbfa75b",
   "metadata": {},
   "source": [
    "<h3 style=\"color: blue\">4.4. So sánh các khoản đầu tư</h3>"
   ]
  },
  {
   "cell_type": "code",
   "execution_count": 88,
   "id": "d4ec40a6-f438-45b1-a44e-8524547ab894",
   "metadata": {},
   "outputs": [
    {
     "name": "stdout",
     "output_type": "stream",
     "text": [
      "RaX = 17.0805% | RaY = 14.1309%\n"
     ]
    }
   ],
   "source": [
    "\"\"\"\n",
    "Liệu một khoản đầu tư X có lợi nhuận tích lũy trong 5 năm là 120% \n",
    "sẽ tốt hơn hay tệ hơn một khoản đầu tư Y có lợi nhuận tích lũy trong 10 năm là 275%?\n",
    "\"\"\"\n",
    "nX = 5\n",
    "RcX = 120/100\n",
    "\n",
    "nY = 10\n",
    "RcY = 275/100\n",
    "\n",
    "RaX = (1 + RcX) ** (1/nX) - 1\n",
    "RaY = (1 + RcY) ** (1/nY) - 1\n",
    "\n",
    "print(f\"RaX = {(RaX * 100):.4f}% | RaY = {(RaY * 100):.4f}%\")"
   ]
  },
  {
   "cell_type": "markdown",
   "id": "b7e532a1-b32b-4970-b508-94d542e507e0",
   "metadata": {},
   "source": [
    "<h2 style=\"color: blue\">5. Average Return</h2>\n",
    "\n",
    "Là quá trình cộng tất cả lợi nhuận hàng năm lại với nhau rồi chia tổng cho số năm mà khoản đầu tư đang được phân tích, không có tính chất lãi kép."
   ]
  },
  {
   "cell_type": "markdown",
   "id": "d07f8924-30cf-47e9-b05e-3d8afa721504",
   "metadata": {},
   "source": [
    "$$\n",
    "\\large R_{avg}=\\frac{1}{n}\\large\\sum_{i=1}^{n} R_i\n",
    "$$"
   ]
  },
  {
   "cell_type": "code",
   "execution_count": 90,
   "id": "166b58bc-9079-4de1-ae6b-6b1ec8e3fde5",
   "metadata": {},
   "outputs": [
    {
     "data": {
      "text/html": [
       "<div>\n",
       "<style scoped>\n",
       "    .dataframe tbody tr th:only-of-type {\n",
       "        vertical-align: middle;\n",
       "    }\n",
       "\n",
       "    .dataframe tbody tr th {\n",
       "        vertical-align: top;\n",
       "    }\n",
       "\n",
       "    .dataframe thead th {\n",
       "        text-align: right;\n",
       "    }\n",
       "</style>\n",
       "<table border=\"1\" class=\"dataframe\">\n",
       "  <thead>\n",
       "    <tr style=\"text-align: right;\">\n",
       "      <th></th>\n",
       "      <th>return</th>\n",
       "    </tr>\n",
       "  </thead>\n",
       "  <tbody>\n",
       "    <tr>\n",
       "      <th>0</th>\n",
       "      <td>0.10</td>\n",
       "    </tr>\n",
       "    <tr>\n",
       "      <th>1</th>\n",
       "      <td>0.12</td>\n",
       "    </tr>\n",
       "    <tr>\n",
       "      <th>2</th>\n",
       "      <td>0.21</td>\n",
       "    </tr>\n",
       "    <tr>\n",
       "      <th>3</th>\n",
       "      <td>-0.08</td>\n",
       "    </tr>\n",
       "    <tr>\n",
       "      <th>4</th>\n",
       "      <td>0.15</td>\n",
       "    </tr>\n",
       "  </tbody>\n",
       "</table>\n",
       "</div>"
      ],
      "text/plain": [
       "   return\n",
       "0    0.10\n",
       "1    0.12\n",
       "2    0.21\n",
       "3   -0.08\n",
       "4    0.15"
      ]
     },
     "execution_count": 90,
     "metadata": {},
     "output_type": "execute_result"
    }
   ],
   "source": [
    "df6"
   ]
  },
  {
   "cell_type": "code",
   "execution_count": 91,
   "id": "87474b95-7ccb-4d08-b2f4-eb7d6eb710c7",
   "metadata": {},
   "outputs": [
    {
     "name": "stdout",
     "output_type": "stream",
     "text": [
      "Average Return in 5 years: 10.00%\n"
     ]
    }
   ],
   "source": [
    "n = df6.shape[0]\n",
    "avg_return = df6['return'].mean()\n",
    "print(f\"Average Return in {n} years: {(avg_return * 100):.2f}%\")"
   ]
  }
 ],
 "metadata": {
  "kernelspec": {
   "display_name": "Python 3 (ipykernel)",
   "language": "python",
   "name": "python3"
  },
  "language_info": {
   "codemirror_mode": {
    "name": "ipython",
    "version": 3
   },
   "file_extension": ".py",
   "mimetype": "text/x-python",
   "name": "python",
   "nbconvert_exporter": "python",
   "pygments_lexer": "ipython3",
   "version": "3.9.13"
  }
 },
 "nbformat": 4,
 "nbformat_minor": 5
}
